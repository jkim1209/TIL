{
 "cells": [
  {
   "cell_type": "markdown",
   "id": "a8763134",
   "metadata": {},
   "source": [
    "**외우는 것이 아니라, 이러한 자료구조 및 알고리즘이 있음을 알고 원리를 파악하는 것이 중요!!**   \n",
    "* 구현하는 방법은 아래의 코드 외에도 다양하다.  \n",
    "* 코드를 외우거나 해당 알고리즘을 코드로 구현할 줄 알아야 함에 집착하지 말 것.     \n",
    "* 개념과 원리를 파악하면, 코드는 상황에 맞게 유연하게 짤 수 있게 된다."
   ]
  },
  {
   "cell_type": "markdown",
   "id": "57d15fe9",
   "metadata": {},
   "source": [
    "# [자료구조] Data Structure"
   ]
  },
  {
   "cell_type": "markdown",
   "id": "4f2ec858",
   "metadata": {},
   "source": [
    "## 0. 파이썬 자료구조 종류"
   ]
  },
  {
   "cell_type": "markdown",
   "id": "0a7e1ec4",
   "metadata": {},
   "source": [
    "| 용어                                                 | 설명                      |\n",
    "| -------------------------------------------------- | ----------------------- |\n",
    "| `list`, `tuple`, `set`, `frozenset`, `dict`, `str` | 파이썬 언어 내장 자료구조          |\n",
    "| 스택(stack), 큐(queue), 해시 테이블(hash table), 트리(tree), 그래프(graph)   | 추상 자료구조 (ADT), 직접 구현 필요 |\n",
    "\n",
    "*  파이썬 언어 내장 자료구조\n",
    "\n",
    "| 내장 자료구조    | 설명                       |\n",
    "| -----------  | ------------------------ |\n",
    "| `list`      | 순서 있고 변경 가능한 시퀀스 (동적 배열: 필요에 따라 크기를 자동으로 조절) |\n",
    "| `tuple`     | 순서 있고 변경 불가능한 시퀀스        |\n",
    "| `set`       | 중복 없는 변경 가능한 집합          |\n",
    "| `frozenset` | 변경 불가능한 집합               |\n",
    "| `dict`      | 키-값 쌍의 해시 기반 매핑          |\n",
    "| `str`       | 변경 불가능한 문자열 시퀀스          |\n",
    "\n",
    "* 추상 자료구조\n",
    "\n",
    "| 자료구조 이름            | 선형 / 비선형 | 간단한 설명                            |\n",
    "| ------------------ | -------- | --------------------------------- |\n",
    "| 스택 (Stack)         | 선형 구조    | 후입선출(LIFO) 방식으로 데이터를 저장하고 꺼냄      |\n",
    "| 큐 (Queue)          | 선형 구조    | 선입선출(FIFO) 방식으로 데이터를 저장하고 꺼냄       |\n",
    "| 트리 (Tree)          | 비선형 구조   | 계층적인 부모-자식 관계를 가지는 노드 구조          |\n",
    "| 해시테이블 (Hash Table) | 비선형 구조   | 키를 해시함수로 변환해 빠르게 데이터에 접근하는 구조     |\n",
    "| 그래프 (Graph)        | 비선형 구조   | 노드(정점)와 그 사이의 연결(간선)로 구성된 일반화된 구조 |\n",
    "\n",
    "\n",
    "\n",
    "_Note_ : **자료형**(Data Type) vs **자료구조**(Data Structure)     \n",
    "\n",
    "| 개념                        | 의미                                        |\n",
    "| ------------------------- | ----------------------------------------- |\n",
    "| **자료형** (Data Type)       | 값의 **종류와 크기**를 정의함 (예: `int`, `float`, `str`)     |\n",
    "| **자료구조** (Data Structure) | 데이터를 **저장하고 조직화**하는 구조 (예: `list`, `set`, 트리 등) |\n"
   ]
  },
  {
   "cell_type": "markdown",
   "id": "fc184023",
   "metadata": {},
   "source": [
    "## 1. 파이썬 자료구조는 메모리를 어떻게 쓸까?\n",
    "* 파이썬에서는 메모리를 자동으로 관리를 해 주어서 메모리에 대해 알 기회가 거의 없다.\n",
    "* 메모리에 대해 살펴본다.\n",
    "\n",
    "```python\n",
    "a = 1\n",
    "b = a\n",
    "\n",
    "# id(객체): 객체의 고유 식별자(메모리 주소)를 반환\n",
    "print(id(a) == id(b))   # True\n",
    "```\n",
    "\n",
    "변수 a와 b는 동일한 값만 가지고 서로 다른 메모리 주소 공간을 갖는게 아니라 **서로 같은 메모리 주소**를 갖는다 : a와 b는 완벽히 동일한 객체를 가리키는 두 개의 이름\n",
    "* 실제 값이 아닌 메모리 주소를 저장한다는 점에서 파이썬의 변수는 '포인터 같다'. 정확히 말하면 파이썬의 변수는 객체에 대한 참조(포인터 비슷한 것)임.\n",
    "    * 하지만 포인터처럼 주소를 직접 다루지는 않아 직접적인 포인터 연산은 불가.\n",
    "    * 변수는 객체에 이름을 붙이는 역할을 할 뿐이며, 객체 자체는 메모리에 존재함.\n",
    "* **파이썬에서는 모든 것이 객체이며, 변수는 그 객체의 참조를 저장한다.**\n",
    "\n",
    "---\n",
    "\n",
    "* 변경 가능한 객체 vs 변경 불가능한 객체    \n",
    "\n",
    "| 객체 타입              | 예시                               | 특징                            |\n",
    "| ------------------ | -------------------------------- | ----------------------------- |\n",
    "| 변경 가능 (mutable)    | `list`, `dict`, `set` 등          | 참조된 객체 내용이 바뀌면 모든 변수에 반영      |\n",
    "| 변경 불가능 (immutable) | `int`, `float`, `str`, `tuple` 등 | 값이 바뀌면 새 객체가 만들어지고, 변수는 그걸 참조 |\n"
   ]
  },
  {
   "cell_type": "code",
   "execution_count": null,
   "id": "80f8146a",
   "metadata": {},
   "outputs": [
    {
     "name": "stdout",
     "output_type": "stream",
     "text": [
      "140732518517176\n",
      "140732518517176\n"
     ]
    }
   ],
   "source": [
    "a = 1\n",
    "b = a\n",
    "\n",
    "print(id(a))\n",
    "print(id(b))    \n"
   ]
  },
  {
   "cell_type": "code",
   "execution_count": 2,
   "id": "08dd7d25",
   "metadata": {},
   "outputs": [
    {
     "name": "stdout",
     "output_type": "stream",
     "text": [
      "2137485470656\n",
      "140732518517176\n",
      "140732518517208\n",
      "\n",
      "2137485470656\n",
      "140732518517304\n",
      "140732518517208\n"
     ]
    }
   ],
   "source": [
    "b = [1,2]\n",
    "print(id(b))\n",
    "print(id(b[0]))\n",
    "print(id(b[1]))\n",
    "\n",
    "print()\n",
    "\n",
    "b[0] = 5\n",
    "print(id(b))\n",
    "print(id(b[0]))     # 이 값만 바뀐다.\n",
    "print(id(b[1]))"
   ]
  },
  {
   "cell_type": "code",
   "execution_count": 5,
   "id": "35f7421c",
   "metadata": {},
   "outputs": [
    {
     "name": "stdout",
     "output_type": "stream",
     "text": [
      "2137491611456\n",
      "140732518517176\n",
      "140732518517208\n",
      "140732518517240\n",
      "\n",
      "2137491611456\n",
      "140732518517176\n",
      "140732518517240\n"
     ]
    }
   ],
   "source": [
    "c = [1, 2, 3]\n",
    "print(id(c))\n",
    "print(id(c[0]))\n",
    "print(id(c[1]))\n",
    "print(id(c[2]))\n",
    "\n",
    "print()\n",
    "\n",
    "del c[1]\n",
    "print(id(c))\n",
    "print(id(c[0]))\n",
    "print(id(c[1]))     # 기존의 id(c[2])값을 사용하게 된다."
   ]
  },
  {
   "cell_type": "markdown",
   "id": "df1273e8",
   "metadata": {},
   "source": [
    "## 2. 배열을 이용한 추상 자료구조 구현"
   ]
  },
  {
   "cell_type": "markdown",
   "id": "635a17f6",
   "metadata": {},
   "source": [
    "### 1) 스택(stack)"
   ]
  },
  {
   "cell_type": "code",
   "execution_count": 55,
   "id": "6330c899",
   "metadata": {},
   "outputs": [
    {
     "name": "stdout",
     "output_type": "stream",
     "text": [
      "[]\n",
      "True\n"
     ]
    }
   ],
   "source": [
    "class Stack():\n",
    "    def __init__(self):\n",
    "        self.stack = []\n",
    "\n",
    "    def isEmpty(self):\n",
    "        is_empty = False\n",
    "        if len(self.stack) == 0:\n",
    "            is_empty = True\n",
    "        return is_empty\n",
    "    \n",
    "    def push(self, data):\n",
    "        self.stack.append(data)\n",
    "\n",
    "    def pop(self):\n",
    "        pop_object = None\n",
    "        if self.isEmpty():\n",
    "            print(\"Stack is empty\")\n",
    "        else:\n",
    "            pop_object = self.stack.pop()\n",
    "        return pop_object\n",
    "    \n",
    "    # 마지막에 들어간 값 확인 (다음에 제일 먼저 꺼내질 값)\n",
    "    def top(self):\n",
    "        top_object = None\n",
    "        if self.isEmpty():\n",
    "            print(\"Stack is empty\")\n",
    "        else:\n",
    "            top_object = self.stack[-1]\n",
    "        return top_object\n",
    "    \n",
    "\n",
    "\n",
    "mystack = Stack()\n",
    "print(mystack.stack)\n",
    "print(mystack.isEmpty())"
   ]
  },
  {
   "cell_type": "code",
   "execution_count": 56,
   "id": "a1e67ebe",
   "metadata": {},
   "outputs": [
    {
     "name": "stdout",
     "output_type": "stream",
     "text": [
      "[1, 2, 3]\n",
      "False\n"
     ]
    }
   ],
   "source": [
    "mystack.push(1)\n",
    "mystack.push(2)\n",
    "mystack.push(3)\n",
    "\n",
    "print(mystack.stack)\n",
    "print(mystack.isEmpty())"
   ]
  },
  {
   "cell_type": "code",
   "execution_count": 57,
   "id": "73aabaa4",
   "metadata": {},
   "outputs": [
    {
     "name": "stdout",
     "output_type": "stream",
     "text": [
      "3\n",
      "[1, 2]\n"
     ]
    }
   ],
   "source": [
    "print(mystack.pop())\n",
    "print(mystack.stack)"
   ]
  },
  {
   "cell_type": "code",
   "execution_count": 58,
   "id": "ec706b95",
   "metadata": {},
   "outputs": [
    {
     "name": "stdout",
     "output_type": "stream",
     "text": [
      "2\n"
     ]
    }
   ],
   "source": [
    "print(mystack.top())"
   ]
  },
  {
   "cell_type": "markdown",
   "id": "547ff720",
   "metadata": {},
   "source": [
    "### 2) 큐(queue)"
   ]
  },
  {
   "cell_type": "code",
   "execution_count": 72,
   "id": "fa93adcf",
   "metadata": {},
   "outputs": [
    {
     "name": "stdout",
     "output_type": "stream",
     "text": [
      "[]\n",
      "True\n"
     ]
    }
   ],
   "source": [
    "class Queue():\n",
    "    def __init__(self):\n",
    "        self.queue = []\n",
    "    \n",
    "    def isEmpty(self):\n",
    "        is_empty = False\n",
    "        if len(self.queue) == 0:\n",
    "            is_empty = True\n",
    "        return is_empty\n",
    "    \n",
    "    def enqueue(self, data):\n",
    "        self.queue.append(data)\n",
    "\n",
    "    def dequeue(self):\n",
    "        if self.isEmpty():\n",
    "            print(\"Queue is empty\")\n",
    "            dequeued = None\n",
    "        else:\n",
    "            dequeued = self.queue[0]\n",
    "            self.queue = self.queue[1:]\n",
    "        return dequeued\n",
    "    \n",
    "    # 처음 들어간 값 확인 (다음에 제일 먼저 꺼내질 값)\n",
    "    def peek(self):\n",
    "        if self.isEmpty():\n",
    "            print(\"Queue is empty\")\n",
    "            peeked = None\n",
    "        else:\n",
    "            peeked = self.queue[0]\n",
    "        return peeked\n",
    "\n",
    "myqueue = Queue()\n",
    "print(myqueue.queue)\n",
    "print(myqueue.isEmpty())"
   ]
  },
  {
   "cell_type": "code",
   "execution_count": 73,
   "id": "dc9fe604",
   "metadata": {},
   "outputs": [
    {
     "name": "stdout",
     "output_type": "stream",
     "text": [
      "[1, 2, 3]\n",
      "False\n"
     ]
    }
   ],
   "source": [
    "myqueue.enqueue(1)\n",
    "myqueue.enqueue(2)\n",
    "myqueue.enqueue(3)\n",
    "\n",
    "print(myqueue.queue)\n",
    "print(myqueue.isEmpty())"
   ]
  },
  {
   "cell_type": "code",
   "execution_count": 74,
   "id": "97402851",
   "metadata": {},
   "outputs": [
    {
     "name": "stdout",
     "output_type": "stream",
     "text": [
      "1\n",
      "[2, 3]\n"
     ]
    }
   ],
   "source": [
    "print(myqueue.dequeue())\n",
    "print(myqueue.queue)"
   ]
  },
  {
   "cell_type": "code",
   "execution_count": 76,
   "id": "0d8902de",
   "metadata": {},
   "outputs": [
    {
     "name": "stdout",
     "output_type": "stream",
     "text": [
      "2\n"
     ]
    }
   ],
   "source": [
    "print(myqueue.peek())"
   ]
  },
  {
   "cell_type": "markdown",
   "id": "e19c5e6f",
   "metadata": {},
   "source": [
    "### 3) 트리(tree)"
   ]
  },
  {
   "cell_type": "code",
   "execution_count": 96,
   "id": "7a83a8ad",
   "metadata": {},
   "outputs": [],
   "source": [
    "class Node():\n",
    "    def __init__(self,data):\n",
    "        self.data = data\n",
    "        self.left = None\n",
    "        self.right = None\n",
    "\n",
    "class BinaryTree():\n",
    "    def __init__(self, Node):\n",
    "        self.root = Node"
   ]
  },
  {
   "cell_type": "code",
   "execution_count": 79,
   "id": "0311a5f0",
   "metadata": {},
   "outputs": [
    {
     "name": "stdout",
     "output_type": "stream",
     "text": [
      "10\n",
      "20\n",
      "30\n",
      "40\n",
      "50\n"
     ]
    }
   ],
   "source": [
    "root = Node(10)\n",
    "root.left = Node(20)\n",
    "root.right = Node(30)\n",
    "\n",
    "root.left.left = Node(40)\n",
    "root.left.right = Node(50)\n",
    "\n",
    "print(root.data)\n",
    "print(root.left.data)\n",
    "print(root.right.data)\n",
    "print(root.left.left.data)\n",
    "print(root.left.right.data)"
   ]
  },
  {
   "cell_type": "code",
   "execution_count": 83,
   "id": "667e3344",
   "metadata": {},
   "outputs": [
    {
     "name": "stdout",
     "output_type": "stream",
     "text": [
      "10\n",
      "20\n",
      "30\n",
      "40\n",
      "50\n"
     ]
    }
   ],
   "source": [
    "# 위의 BinaryTree 클래스를 만들어 이용할 수도 있다.\n",
    "n1 = Node(10)\n",
    "n2 = Node(20)\n",
    "n3 = Node(30)\n",
    "n4 = Node(40)\n",
    "n5 = Node(50)       # n1 ~ n5 모두 Node 클래스가 되었다.\n",
    "\n",
    "tree = BinaryTree(n1)\n",
    "n1.left = n2\n",
    "n1.right = n3\n",
    "n2.left = n4\n",
    "n2.right = n5\n",
    "\n",
    "print(tree.root.data)\n",
    "print(tree.root.left.data)\n",
    "print(tree.root.right.data)\n",
    "print(tree.root.left.left.data)\n",
    "print(tree.root.left.right.data)"
   ]
  },
  {
   "cell_type": "markdown",
   "id": "c87e83b2",
   "metadata": {},
   "source": [
    "#### (1) 전위 순회 (순회함수를 만들 때 재귀함수가 쓰이니 이하 `2. 탐색 알고리즘`의 `1. 재귀함수` 부분을 먼저 보고 온다.)\n",
    "\n",
    "**루트 노드 → 왼쪽 노드 → 오른쪽 노드** 순서로 탐색"
   ]
  },
  {
   "cell_type": "code",
   "execution_count": 94,
   "id": "e6736cec",
   "metadata": {},
   "outputs": [],
   "source": [
    "def preorder(node):\n",
    "    if node:\n",
    "        print(node.data)\n",
    "        preorder(node.left)\n",
    "        preorder(node.right)"
   ]
  },
  {
   "cell_type": "code",
   "execution_count": 97,
   "id": "6abc103a",
   "metadata": {},
   "outputs": [
    {
     "name": "stdout",
     "output_type": "stream",
     "text": [
      "10\n",
      "20\n",
      "40\n",
      "60\n",
      "70\n",
      "50\n",
      "30\n"
     ]
    }
   ],
   "source": [
    "m1 = Node(10)\n",
    "m2 = Node(20)\n",
    "m3 = Node(30)\n",
    "m4 = Node(40)\n",
    "m5 = Node(50)\n",
    "m6 = Node(60)\n",
    "m7 = Node(70)\n",
    "\n",
    "tree1 = BinaryTree(m1)\n",
    "m1.left = m2\n",
    "m1.right = m3\n",
    "m2.left = m4\n",
    "m2.right = m5\n",
    "m4.left = m6\n",
    "m4.right = m7\n",
    "\n",
    "preorder(tree1.root)"
   ]
  },
  {
   "cell_type": "markdown",
   "id": "4b4f087e",
   "metadata": {},
   "source": [
    "#### (2) 중위 순회\n",
    "\n",
    "**왼쪽 노드 → 루트 노드 → 오른쪽 노드** 순서로 탐색"
   ]
  },
  {
   "cell_type": "code",
   "execution_count": 106,
   "id": "f0727046",
   "metadata": {},
   "outputs": [],
   "source": [
    "def inorder(node):\n",
    "    if node:\n",
    "        inorder(node.left)\n",
    "        print(node.data)\n",
    "        inorder(node.right)"
   ]
  },
  {
   "cell_type": "code",
   "execution_count": 107,
   "id": "239a9a19",
   "metadata": {},
   "outputs": [
    {
     "name": "stdout",
     "output_type": "stream",
     "text": [
      "60\n",
      "40\n",
      "70\n",
      "20\n",
      "50\n",
      "10\n",
      "30\n"
     ]
    }
   ],
   "source": [
    "inorder(tree1.root)"
   ]
  },
  {
   "cell_type": "markdown",
   "id": "95d6d037",
   "metadata": {},
   "source": [
    "#### (3) 후위 순회\n",
    "\n",
    "**왼쪽 노드 → 오른쪽 노드 → 루트 노드** 순서로 탐색"
   ]
  },
  {
   "cell_type": "code",
   "execution_count": 108,
   "id": "32792017",
   "metadata": {},
   "outputs": [],
   "source": [
    "def postorder(node):\n",
    "    if node:\n",
    "        postorder(node.left)\n",
    "        postorder(node.right)\n",
    "        print(node.data)"
   ]
  },
  {
   "cell_type": "code",
   "execution_count": 109,
   "id": "a31875c8",
   "metadata": {},
   "outputs": [
    {
     "name": "stdout",
     "output_type": "stream",
     "text": [
      "60\n",
      "70\n",
      "40\n",
      "50\n",
      "20\n",
      "30\n",
      "10\n"
     ]
    }
   ],
   "source": [
    "postorder(tree1.root)"
   ]
  },
  {
   "cell_type": "markdown",
   "id": "58905ccd",
   "metadata": {},
   "source": [
    "### 4) 해시테이블(hash table)\n",
    "- 임의 크기 데이터를 고정된 길이의 데이터로 매핑하는데 사용할 수 있는 함수\n",
    "- 파이썬의 `dict`, `set`이 대표적인 해시테이블 기반 구조\n",
    "\n",
    "<center><img src='image/Data Structure and Algorithm_hash_table.svg', width=600></center>\n",
    "\n",
    "<div align=\"center\">\n",
    "\n",
    "[Hash Table in Data Structure](https://simplerize.com/data-structures/hash-table-introduction)\n",
    "\n",
    "</div>"
   ]
  },
  {
   "cell_type": "markdown",
   "id": "4d445c4b",
   "metadata": {},
   "source": [
    "##### (참고) 해시: 임의의 길이의 데이터를 **고정된 길이의 고유한 값(해시값)**으로 변환하는 것.\n",
    ">- 대표적인 해시 알고리즘: SHA-256, MD5, SHA-1\n",
    ">- 일방향성: 원래 데이터로 되돌릴 수 없음 (복호화 불가능) $\\quad$  _- 이러한 점에서 암호화(Encryption)와는 다름_\n",
    ">- 빠른 계산 속도\n",
    ">- 충돌 최소화: 서로 다른 입력 → 다른 해시값"
   ]
  },
  {
   "cell_type": "markdown",
   "id": "4ac2ab4e",
   "metadata": {},
   "source": [
    "* 영어와 한글 인코딩 비교"
   ]
  },
  {
   "cell_type": "code",
   "execution_count": 91,
   "id": "3f44f221",
   "metadata": {},
   "outputs": [
    {
     "name": "stdout",
     "output_type": "stream",
     "text": [
      "인코딩:  b'a'\n",
      "디코딩:  a\n"
     ]
    }
   ],
   "source": [
    "string_en = 'a'\n",
    "str_encode_en = string_en.encode('utf8')\n",
    "print('인코딩: ',str_encode_en)\n",
    "\n",
    "str_decode_en = str_encode_en.decode('utf8')\n",
    "print('디코딩: ',str_decode_en)"
   ]
  },
  {
   "cell_type": "code",
   "execution_count": 92,
   "id": "785ffb3e",
   "metadata": {},
   "outputs": [
    {
     "name": "stdout",
     "output_type": "stream",
     "text": [
      "인코딩:  b'\\xec\\x95\\x84'\n",
      "디코딩:  아\n"
     ]
    }
   ],
   "source": [
    "string_ko = '아'\n",
    "str_encode_ko = string_ko.encode('utf8')    \n",
    "print('인코딩: ', str_encode_ko)    # 헥스(hex): 16진법으로 나타냄\n",
    "\n",
    "str_decode_kr = str_encode_ko.decode('utf8')\n",
    "print('디코딩: ', str_decode_kr)"
   ]
  },
  {
   "cell_type": "code",
   "execution_count": null,
   "id": "77c4838e",
   "metadata": {},
   "outputs": [
    {
     "name": "stdout",
     "output_type": "stream",
     "text": [
      "b'\\xec\\xb2\\xa0\\xec\\x88\\x98'\n",
      "<sha256 _hashlib.HASH object @ 0x000001F1ACA5CE10>\n",
      "133a61b3559a6f56b8efe3d2b3fc3b73874a31ac26e4ea32166094ded3d5f1c0\n"
     ]
    }
   ],
   "source": [
    "# 파이썬 라이브러리 hashlib을 사용하여 인코딩해보기\n",
    "import hashlib\n",
    "\n",
    "name = '철수'\n",
    "nm_encode = name.encode()\n",
    "print(nm_encode)\n",
    "\n",
    "nm_hash = hashlib.sha256(nm_encode)\n",
    "print(nm_hash)\n",
    "\n",
    "nm_hash_val = nm_hash.hexdigest()\n",
    "print(nm_hash_val)\n",
    "\n",
    "# 우리가 사이트에 가입할 때 쓰는 암호는 이와 같이 sha256(암호학적 해시 함수의 하나)으로 해시로 바꾸어져(위 예시에서 'nm_hash_val') 저장된다.\n",
    "# aws실습 때 sha256을 썼던 것도 이런 이유임. 해시를 통한 암호화는 반드시 필수!\n",
    "# 가끔 양심없이 입력한 값(위 예시에서 '철수') 그대로 저장되는 사이트들이 있으니... 보안에 매우 취약 → 함부로 가입하고 다니지 말 것!\n",
    "# 뉴스에서 '모사이트에서 사용자의 암호를 평문으로 저장해서 화제가 되고 있습니다' 가 이런 뜻임.\n",
    "\n",
    "# 이렇게 해시값으로 바뀌어 저장된 암호는 다시 돌리지 못함(비가역성)\n",
    "# 즉, 사이트 주인도 나의 암호가 뭔지 모르고, 사이트에서는 내가 비밀번호를 입력하면 그 해시값이 저장된 나의 암호 해시값과 일치하면 통과시켜주는 것이다. "
   ]
  },
  {
   "cell_type": "markdown",
   "id": "2f1d46df",
   "metadata": {},
   "source": [
    "* 입력값과 입력값의 해시값을 매핑하는 해시 테이블 생성하기"
   ]
  },
  {
   "cell_type": "code",
   "execution_count": 177,
   "id": "81e593c2",
   "metadata": {},
   "outputs": [],
   "source": [
    "class HashTable():\n",
    "    def __init__(self):\n",
    "        self.table = {}\n",
    "    \n",
    "    # 문자값과 대응되는 해시값 입력\n",
    "    def put(self, key):\n",
    "        key_encode = key.encode()\n",
    "        value = hashlib.sha256(key_encode).hexdigest()\n",
    "        self.table[key] = value\n",
    "\n",
    "    # 전체 테이블 출력\n",
    "    def printTable(self):\n",
    "        for key in self.table.keys():\n",
    "            print(key,\": \", self.table[key])\n",
    "    \n",
    "    # key에 해당하는 값 하나를 출력\n",
    "    def get(self, key):\n",
    "        print(self.table[key])\n",
    "\n",
    "    # 목록에서 특정 값 제거\n",
    "    def remove(self, key):\n",
    "        del self.table[key]"
   ]
  },
  {
   "cell_type": "code",
   "execution_count": 178,
   "id": "d68410b7",
   "metadata": {},
   "outputs": [
    {
     "name": "stdout",
     "output_type": "stream",
     "text": [
      "133a61b3559a6f56b8efe3d2b3fc3b73874a31ac26e4ea32166094ded3d5f1c0\n",
      "2de7bd1bea5aca5d7435eadc5f1ab608007033067a1428cd1fb766185d043723\n",
      "e82380f937166510e6cd9e1870264ef7a4f0923b775a4fe13a099c05d6a2577b\n",
      "efdce82c1b00ab877b6b49e3c350b731194376fe1d515925f6e98db2d1f1c63b\n",
      "2bebf129e109e77f45ab9fd25a9750e27befc7e429dc7f934c4b3ebd382c9903\n"
     ]
    }
   ],
   "source": [
    "myhash = HashTable()\n",
    "\n",
    "myhash.put('철수')\n",
    "myhash.put('영희')\n",
    "myhash.put('채원')\n",
    "myhash.put('소영')\n",
    "myhash.put('철원')\n",
    "\n",
    "myhash.get('철수')\n",
    "myhash.get('영희')\n",
    "myhash.get('채원')\n",
    "myhash.get('소영')\n",
    "myhash.get('철원')"
   ]
  },
  {
   "cell_type": "code",
   "execution_count": 179,
   "id": "70e400a4",
   "metadata": {},
   "outputs": [
    {
     "name": "stdout",
     "output_type": "stream",
     "text": [
      "철수 :  133a61b3559a6f56b8efe3d2b3fc3b73874a31ac26e4ea32166094ded3d5f1c0\n",
      "영희 :  2de7bd1bea5aca5d7435eadc5f1ab608007033067a1428cd1fb766185d043723\n",
      "채원 :  e82380f937166510e6cd9e1870264ef7a4f0923b775a4fe13a099c05d6a2577b\n",
      "소영 :  efdce82c1b00ab877b6b49e3c350b731194376fe1d515925f6e98db2d1f1c63b\n",
      "철원 :  2bebf129e109e77f45ab9fd25a9750e27befc7e429dc7f934c4b3ebd382c9903\n"
     ]
    }
   ],
   "source": [
    "myhash.printTable()"
   ]
  },
  {
   "cell_type": "code",
   "execution_count": 176,
   "id": "301d6ed3",
   "metadata": {},
   "outputs": [
    {
     "name": "stdout",
     "output_type": "stream",
     "text": [
      "영희 :  2de7bd1bea5aca5d7435eadc5f1ab608007033067a1428cd1fb766185d043723\n",
      "채원 :  e82380f937166510e6cd9e1870264ef7a4f0923b775a4fe13a099c05d6a2577b\n",
      "소영 :  efdce82c1b00ab877b6b49e3c350b731194376fe1d515925f6e98db2d1f1c63b\n",
      "철원 :  2bebf129e109e77f45ab9fd25a9750e27befc7e429dc7f934c4b3ebd382c9903\n"
     ]
    }
   ],
   "source": [
    "myhash.remove('철수')\n",
    "myhash.printTable()"
   ]
  },
  {
   "cell_type": "markdown",
   "id": "7f07b0f3",
   "metadata": {},
   "source": [
    "### 5) 그래프(graph)\n",
    "\n",
    "<img src=\"image/Data Structure and Algorithm_graph.jpg\" width=\"600\" style=\"display: block; margin: 0;\">\n",
    "<br>\n",
    "\n",
    "* 참고) 트리도 그래프 안에 포함된다: 각 딕셔너리의 key가 트리의 부모 Node, value들은 자식 Node로 표현"
   ]
  },
  {
   "cell_type": "code",
   "execution_count": 111,
   "id": "c10041e0",
   "metadata": {},
   "outputs": [],
   "source": [
    "# 해시 테이블로 구현: `노드`와 [노드가 갈 수 있는 경로]를 매핑\n",
    "class HashMap():\n",
    "    def __init__(self):\n",
    "        self.table = {}\n",
    "    \n",
    "    def put(self, key, value):\n",
    "        self.table[key] = value\n",
    "    \n",
    "    def printTable(self):\n",
    "        for key in self.table.keys():\n",
    "            print(key, \":\", self.table[key])\n",
    "    \n",
    "    def get(self, key):\n",
    "        print(self.table[key])\n",
    "\n",
    "    def remove(self, key):\n",
    "        del self.table[key]"
   ]
  },
  {
   "cell_type": "code",
   "execution_count": 118,
   "id": "c1380b30",
   "metadata": {},
   "outputs": [
    {
     "name": "stdout",
     "output_type": "stream",
     "text": [
      "1 : [2, 3, 4]\n",
      "2 : [1, 4, 5]\n",
      "3 : [1, 4]\n",
      "4 : [1, 2, 3, 5]\n",
      "5 : [2, 4]\n"
     ]
    }
   ],
   "source": [
    "graph = HashMap()\n",
    "graph.put(1, [2, 3, 4])\n",
    "graph.put(2, [1, 4, 5])\n",
    "graph.put(3, [1, 4])\n",
    "graph.put(4, [1, 2, 3, 5])\n",
    "graph.put(5, [2, 4])\n",
    "\n",
    "graph.printTable()"
   ]
  },
  {
   "cell_type": "code",
   "execution_count": 119,
   "id": "05c4eb28",
   "metadata": {},
   "outputs": [
    {
     "data": {
      "text/plain": [
       "{1: [2, 3, 4], 2: [1, 4, 5], 3: [1, 4], 4: [1, 2, 3, 5], 5: [2, 4]}"
      ]
     },
     "execution_count": 119,
     "metadata": {},
     "output_type": "execute_result"
    }
   ],
   "source": [
    "# 직접 딕셔너리 형태로 쓰기\n",
    "graph = {\n",
    "    1: [2, 3, 4],\n",
    "    2: [1, 4, 5],\n",
    "    3: [1, 4],\n",
    "    4: [1, 2, 3, 5],\n",
    "    5: [2, 4]\n",
    "}\n",
    "\n",
    "graph"
   ]
  },
  {
   "cell_type": "markdown",
   "id": "2ade6f6a",
   "metadata": {},
   "source": [
    "* 간선의 가중치도 반영하고 싶다면?\n",
    "    * 각 값을 확장시켜 `시작 Node: [(연결된 Node1, 가중치1), (연결된 Node2, 가중치2), ...]` 이런 식으로 쓸 수 있다.\n",
    "\n",
    "예시) \n",
    "<br>\n",
    "\n",
    "<img src=\"image/Data Structure and Algorithm_graph_weighted.jpg\" width=\"600\" style=\"display: block; margin: 0;\">"
   ]
  },
  {
   "cell_type": "code",
   "execution_count": 171,
   "id": "b611e53d",
   "metadata": {},
   "outputs": [
    {
     "data": {
      "text/plain": [
       "{1: [(2, 10), (3, 30)],\n",
       " 2: [(4, 40), (5, 60)],\n",
       " 3: [(4, 20)],\n",
       " 4: [(1, 50), (5, 70)],\n",
       " 5: []}"
      ]
     },
     "execution_count": 171,
     "metadata": {},
     "output_type": "execute_result"
    }
   ],
   "source": [
    "graph_weighted = {\n",
    "    1: [(2, 10), (3, 30)],\n",
    "    2: [(4, 40), (5, 60)],\n",
    "    3: [(4, 20)],\n",
    "    4: [(1, 50), (5, 70)],\n",
    "    5: []\n",
    "}\n",
    "\n",
    "graph_weighted"
   ]
  },
  {
   "cell_type": "markdown",
   "id": "4a98c813",
   "metadata": {},
   "source": [
    "# [알고리즘] Algorithm"
   ]
  },
  {
   "cell_type": "markdown",
   "id": "32ebe00d",
   "metadata": {},
   "source": [
    "## 0. 알고리즘이란?\n",
    "* 자료구조가 데이터를 조직화하고 저장하는 방식에 대한 것이었다면, 알고리즘은 문제를 해결하기 위한 단계적 절차이다.\n",
    "* 알고리즘은 자료구조를 이용하여 특정 문제를 해결하거나 특정 작업을 수행하는 방법이다.\n",
    "* 크게 탐색과 정렬로 나누어진다"
   ]
  },
  {
   "cell_type": "markdown",
   "id": "5d7da3cd",
   "metadata": {},
   "source": [
    "## 1. 탐색 알고리즘"
   ]
  },
  {
   "cell_type": "markdown",
   "id": "54004fa0",
   "metadata": {},
   "source": [
    "### 1) 재귀 함수\n",
    "\n",
    "* 함수 내에서 해당 함수를 다시 사용하는 형태\n",
    "* 재귀함수는 함수를 다시 자기 자신을 호출하면서 호출된 함수가 스택(stack)에 쌓이고, 나중에 호출된 함수부터 차례로 되돌아가며(pop) 실행을 마침\n",
    "* 이건 정확히 스택 구조, 즉 **후입선출(LIFO: Last-In First-Out)** 의 동작 방식과 같음\n",
    ">* 재귀함수는 자체로 탐색 알고리즘은 아니지만, 자료구조나 알고리즘을 표현하기 위한 기법(기술)으로 반복문처럼 문제를 분할하고 해결하는 방식으로 자주 사용됨.\n",
    ">* 특히 반복문처럼 문제를 분할하고 해결하는 방식으로 자주 사용됨.\n",
    ">    * 예: 팩토리얼, 피보나치 수열, 하노이 탑 등."
   ]
  },
  {
   "cell_type": "markdown",
   "id": "d90d42cd",
   "metadata": {},
   "source": [
    "피보나치 수열 예시)\n",
    "```python\n",
    "def fib(n):\n",
    "    if n == 0:\n",
    "        return 0\n",
    "    elif n == 1:\n",
    "        return 1\n",
    "    elif n > 1:\n",
    "        return fib(n-1) + fib(n-2)\n",
    "    else:\n",
    "        class fibError(Exception):\n",
    "            pass\n",
    "        raise fibError(\"n must be positive!\")\n",
    "```\n",
    "\n",
    "<center><img src='image/Data Structure and Algorithm_recursive_function.png', width = 700></center>\n",
    "\n",
    "<div align=\"center\">\n",
    "\n",
    "[Emulating recursion using a stack](https://www.eecs.yorku.ca/course_archive/2016-17/F/2030/labs/lab7/lab7.html)\n",
    "\n",
    "</div>"
   ]
  },
  {
   "cell_type": "code",
   "execution_count": null,
   "id": "5c6f56c9",
   "metadata": {},
   "outputs": [
    {
     "data": {
      "text/plain": [
       "120"
      ]
     },
     "execution_count": 86,
     "metadata": {},
     "output_type": "execute_result"
    }
   ],
   "source": [
    "def factorial(n):\n",
    "    if n == 0:\n",
    "        return 1\n",
    "    return n*factorial(n-1)\n",
    "# 함수 구조를 보면 n = n에서 시작하여 n = 0이 될 때까지 계속 factorial 함수가 반복 순환하면서(recursively) 돌아간다.\n",
    "\n",
    "factorial(5)"
   ]
  },
  {
   "cell_type": "markdown",
   "id": "1840ace0",
   "metadata": {},
   "source": [
    "### 2) 너비 우선 탐색(BFS, Breadth First Search)\n",
    "* 트리 구조에서 가로방향으로 탐색       \n",
    "* BFS는 **큐(queue) 자료 구조** 사용 → **선입선출(FIFO)**\n",
    "    * 너비우선으로 자료를 탐색하며 넣은 뒤 추출 (FIFO)\n",
    "    * 어떤 자료를 추출할 때 그 자료의 자식 노드들을 추가\n",
    "    * 이를 계속 반복\n",
    "\n",
    "**예시)**\n",
    "\n",
    "<img src=\"image/Data Structure and Algorithm_bfs.jpg\" width=\"600\" style=\"display: block; margin: 0;\">\n",
    "\n",
    "\n",
    "<br>\n",
    "\n",
    "> [1] 1을 큐에추가한 뒤 추출, 그 자식 노드들을 append하면 순서대로 8, 5, 2 가 들어감    \n",
    "> [2] 1 다음으로 들어간 8을 추출, 그 자식 노드들을 append하면 순서대로 6, 4, 3 이 들어감    \n",
    "> $\\quad$ 하지만 이 값들은 append되었으므로 여전히 5, 2 는 6, 4, 3 앞에 남아있음  \n",
    "> [3] 8 다음으로 들어간 5를 추출, 그 자식 노드들은 없으므로 pass    \n",
    "> $\\,$ ... 이와 같이 반복한다: FIFO방식으로 넓이 우선 탐색 가능"
   ]
  },
  {
   "cell_type": "code",
   "execution_count": 120,
   "id": "3f052b53",
   "metadata": {},
   "outputs": [],
   "source": [
    "# 우선 위 트리를 그래프 형태로 만들기\n",
    "graph = {\n",
    "    1: [8, 5, 2],\n",
    "    8: [6, 4, 3],\n",
    "    5: [],\n",
    "    2: [9],\n",
    "    6: [10, 7],\n",
    "    4: [],\n",
    "    3: [],\n",
    "    9: [],\n",
    "    10: [],\n",
    "    7: []\n",
    "}\n",
    "\n",
    "# 방문했는지 여부를 딕셔너리 형태로 만들기 (처음엔 모두 거짓)\n",
    "visited = {\n",
    "    1: False,\n",
    "    2: False,\n",
    "    3: False,\n",
    "    4: False,\n",
    "    5: False,\n",
    "    6: False,\n",
    "    7: False,\n",
    "    8: False,\n",
    "    9: False,\n",
    "    10: False\n",
    "}"
   ]
  },
  {
   "cell_type": "code",
   "execution_count": null,
   "id": "820ecd78",
   "metadata": {},
   "outputs": [],
   "source": [
    "def bfs(graph, visited):\n",
    "    queue = []\n",
    "    root = list(graph.keys())[0]\n",
    "    queue.append(root)\n",
    "    visited[root] = True   # 루트노드는 처음에 방문하게 되므로 True로 선언\n",
    "    while queue:\n",
    "        vertex = queue.pop(0)    # queue에 들어간 값을 선입선출 방식으로 빼줌\n",
    "        print(vertex, end=' ')\n",
    "        for neighbor in graph[vertex]:\n",
    "            if not visited[neighbor]:       # 아직 방문하지 않은 곳이라면,\n",
    "                queue.append(neighbor)\n",
    "                visited[neighbor] = True     # 방문한 노드는 True로 설정\n",
    "\n",
    "# 참고: for문 vs while문\n",
    "# for문은 처음부터 loop을 몇 번 돌릴지 정해서 돌림\n",
    "# while문은 조건이 만족할때까지 loop를 돌림 (loop가 몇 번 돌아갈지 설정 안 함)"
   ]
  },
  {
   "cell_type": "code",
   "execution_count": 122,
   "id": "488a1add",
   "metadata": {},
   "outputs": [
    {
     "name": "stdout",
     "output_type": "stream",
     "text": [
      "1 8 5 2 6 4 3 9 10 7 "
     ]
    }
   ],
   "source": [
    "bfs(graph, visited)"
   ]
  },
  {
   "cell_type": "markdown",
   "id": "f40dff2c",
   "metadata": {},
   "source": [
    "### 3) 깊이 우선 탐색(DFS, Depth First Search)\n",
    "\n",
    "* 트리 구조에서 세로방향으로 탐색       \n",
    "* BFS는 **스택(stack) 자료 구조** 사용 → **후입선출(LIFO)**\n",
    "    * 즉, 깊이우선으로 자료를 **모두** 탐색, 자식노드가 더 이상 없으면 멈춤 $\\quad$ _- 재귀함수 이용_ \n",
    "    * 한 방향(보통 왼쪽부터) 가능한 만큼 끝까지 내려간 뒤, 더 이상 갈 곳이 없으면 되돌아(backtrack) 하며 다른 방향을 탐색함.\n",
    "    * 탐색이 끝났다면, 마지막으로 탐색된 값부터 append\n",
    "    * 재귀함수 이용\n",
    "\n",
    "**예시)**\n",
    "\n",
    "<img src=\"image/Data Structure and Algorithm_dfs.jpg\" width=\"600\" style=\"display: block; margin: 0;\">\n",
    "<br>\n",
    "\n",
    "> [1] 재귀함수를 통해 자식노드가 없을 때까지 계속해서 왼쪽부터 수직아래로 내려가며 자료를 탐색   \n",
    "> [2] 탐색이 종료되면 마지막으로 탐색된 값부터 하나씩 append : 9 → 2 → 5 → 3 → 4 → 7 → 10 → 6 → 8 → 1   \n",
    "> [3] 마지막에 들어간 값부터 하나씩 추출해내면 LIFO방식으로 깊이 우선 탐색 가능 : 1 8 6 10 7 4 3 5 2 9  "
   ]
  },
  {
   "cell_type": "code",
   "execution_count": 124,
   "id": "becbae9f",
   "metadata": {},
   "outputs": [],
   "source": [
    "# 우선 위 트리를 그래프 형태로 만들기\n",
    "graph = {\n",
    "    1: [8, 5, 2],\n",
    "    8: [6, 4, 3],\n",
    "    5: [],\n",
    "    2: [9],\n",
    "    6: [10, 7],\n",
    "    4: [],\n",
    "    3: [],\n",
    "    9: [],\n",
    "    10: [],\n",
    "    7: []\n",
    "}\n",
    "\n",
    "# 방문했는지 여부를 딕셔너리 형태로 만들기 (처음엔 모두 거짓)\n",
    "visited = {\n",
    "    1: False,\n",
    "    2: False,\n",
    "    3: False,\n",
    "    4: False,\n",
    "    5: False,\n",
    "    6: False,\n",
    "    7: False,\n",
    "    8: False,\n",
    "    9: False,\n",
    "    10: False\n",
    "}"
   ]
  },
  {
   "cell_type": "code",
   "execution_count": 123,
   "id": "cebb9f46",
   "metadata": {},
   "outputs": [],
   "source": [
    "def dfs(graph, vertex, visitied):\n",
    "    visited[vertex] = True\n",
    "    print(vertex, end = ' ')\n",
    "    for neighbor in graph[vertex]:\n",
    "        if not visited[neighbor]:\n",
    "            dfs(graph, neighbor, visited)"
   ]
  },
  {
   "cell_type": "code",
   "execution_count": 125,
   "id": "37683f2e",
   "metadata": {},
   "outputs": [
    {
     "name": "stdout",
     "output_type": "stream",
     "text": [
      "1 8 6 10 7 4 3 5 2 9 "
     ]
    }
   ],
   "source": [
    "dfs(graph, 1, visited)"
   ]
  },
  {
   "cell_type": "markdown",
   "id": "fa0e0a1e",
   "metadata": {},
   "source": [
    "### 4) 선형 탐색(linear search) \n",
    "* 순차 탐색(sequential search)이라고도 불림\n",
    "* `for`문 돌리는 것이 바로 선형 탐색\n",
    "* 장점: 구형하기 쉽고, 정렬되지 않은 상태에서도 사용 가능\n",
    "* 단점: 검색 대상 리스트가 길어지면 비효율적 - (최대) 시간 복잡도: $O(n)$\n",
    "\n",
    "<img src=\"image/Data Structure and Algorithm_linear_search.png\" width=\"600\" style=\"display: block; margin: 0;\">\n",
    "\n",
    "[What is Linear Search?](https://www.geeksforgeeks.org/dsa/what-is-linear-search/)"
   ]
  },
  {
   "cell_type": "code",
   "execution_count": 126,
   "id": "1da8b6fd",
   "metadata": {},
   "outputs": [],
   "source": [
    "# for문을 바로 사용하는 것 외에 선형 탐색을 함수로 만들어보기\n",
    "def linearsearch(item_list, target):\n",
    "    n = len(item_list)\n",
    "    for i in range(0, n):\n",
    "        item = item_list[i]\n",
    "        if item == target:\n",
    "            return i\n",
    "    return -1"
   ]
  },
  {
   "cell_type": "code",
   "execution_count": 127,
   "id": "6cf3ce6b",
   "metadata": {},
   "outputs": [
    {
     "name": "stdout",
     "output_type": "stream",
     "text": [
      "4\n",
      "-1\n"
     ]
    }
   ],
   "source": [
    "item_list = [31, 15, 12, 95, 25, 74, 22, 84, 26, 67]\n",
    "target1 = 25\n",
    "target2 = 11\n",
    "\n",
    "idx1 = linearsearch(item_list, target1)\n",
    "idx2 = linearsearch(item_list, target2)\n",
    "\n",
    "print(idx1)\n",
    "print(idx2)"
   ]
  },
  {
   "cell_type": "markdown",
   "id": "bf381daa",
   "metadata": {},
   "source": [
    "### 5) 이진 탐색(binary search) - 반복문 사용\n",
    "* 장점: 선형 탐색에 비해 빠른 속도 - 시간 복잡도: $O(log{n})$\n",
    "* 단점: 미리 오름차순 정렬되어 있어야 사용 가능\n",
    "\n",
    "<img src=\"image/Data Structure and Algorithm_binary_search.png\" width=\"600\" style=\"display: block; margin: 0;\">\n",
    "\n",
    "[Algorithms: Binary Search](https://dolly-desir.medium.com/algorithms-binary-search-2656c7eb5049)"
   ]
  },
  {
   "cell_type": "code",
   "execution_count": 129,
   "id": "b3e113e3",
   "metadata": {},
   "outputs": [],
   "source": [
    "def binarySearchLoop(item_list, target):\n",
    "    start = 0\n",
    "    end = len(item_list) - 1\n",
    "\n",
    "    while start <= end:\n",
    "        mid = (start + end) // 2            # // : 몫, 즉 소수점 이하를 버리고 정수만 남김\n",
    "\n",
    "        if item_list[mid] < target:\n",
    "            start = mid + 1                 # mid 뒤쪽에 있으니 start 인덱스를 mid + 1 로 설정\n",
    "        elif item_list[mid] > target:\n",
    "            end = mid - 1                   # mid 앞쪽에 있으니 end 인덱스를 mid - 1 로 설정\n",
    "        else:\n",
    "            return mid\n",
    "    return -1"
   ]
  },
  {
   "cell_type": "code",
   "execution_count": 130,
   "id": "a1edbf35",
   "metadata": {},
   "outputs": [
    {
     "name": "stdout",
     "output_type": "stream",
     "text": [
      "3\n"
     ]
    }
   ],
   "source": [
    "item_list = [1, 7, 11, 16, 23, 28, 31, 35, 41, 50]\n",
    "target = 16\n",
    "\n",
    "res = binarySearchLoop(item_list, target)\n",
    "print(res)"
   ]
  },
  {
   "cell_type": "markdown",
   "id": "6c2dc70b",
   "metadata": {},
   "source": [
    "## 2. 정렬 알고리즘"
   ]
  },
  {
   "cell_type": "markdown",
   "id": "92d33bae",
   "metadata": {},
   "source": [
    "### 1) 버블 정렬(bubble sort)\n",
    "\n",
    "* 거품 정렬\n",
    "* 앞에서부터 두 인접한 원소를 검사한 후 정렬하는 방법\n",
    "* 시간 복잡도: $O(n^2)$\n",
    "* 구현이 간단함"
   ]
  },
  {
   "cell_type": "code",
   "execution_count": null,
   "id": "fd1517da",
   "metadata": {},
   "outputs": [],
   "source": [
    "def bubble_sort(item_list):\n",
    "    n = len(item_list)\n",
    "    for i in range(1, n):\n",
    "        for j in range(0, n-1):\n",
    "            if item_list[j] > item_list[j+1]:                                   # 뒤의 값이 더 크다면\n",
    "                item_list[j], item_list[j+1] = item_list[j+1], item_list[j]     # 순서 바꿔주기\n",
    "    return item_list"
   ]
  },
  {
   "cell_type": "code",
   "execution_count": 135,
   "id": "ac2bf711",
   "metadata": {},
   "outputs": [
    {
     "data": {
      "text/plain": [
       "[1, 2, 3, 5, 9]"
      ]
     },
     "execution_count": 135,
     "metadata": {},
     "output_type": "execute_result"
    }
   ],
   "source": [
    "item_list = [2, 5, 3, 1, 9]\n",
    "bubble_sort(item_list)"
   ]
  },
  {
   "cell_type": "markdown",
   "id": "3b986c9e",
   "metadata": {},
   "source": [
    "### 2) 병합 정렬(merge sort)\n",
    "\n",
    "* 안정적인 알고리즘 \n",
    "* 분할 정복 알고리즘: 간단한 문제가 될 때까지 문제를 재귀적으로 분할한 다음, 최하위 문제들을 해결함으로써 원래 문제의 답을 찾아냄\n",
    "* 상용 라이브러리에 많이 쓰임\n",
    "* 시간 복잡도: $O(nlog(n))$\n",
    "\n",
    "<img src=\"image/Data Structure and Algorithm_merge_sort.jpg\" width=\"1200\" style=\"display: block; margin: 0;\">\n",
    "\n",
    "<br>\n",
    "\n",
    "> 따라서 병합 정렬을 구현하려면 **분할하는 함수**와 **병합하는 함수** 두 개가 필요함"
   ]
  },
  {
   "cell_type": "code",
   "execution_count": null,
   "id": "ffdf49cc",
   "metadata": {},
   "outputs": [],
   "source": [
    "# 병합하는 함수\n",
    "def merge(left, right):\n",
    "    print(\"========== merge 함수 ==========\")   \n",
    "    print(\"left: \", left, \"right: \", right)\n",
    "    sorted_list = []                            # 다음 병합에 쓰일 자료들을 모아놓은 list\n",
    "\n",
    "    while len(left) > 0 or len(right) > 0:      # left나 right에 값이 있는 동안 계속 진행\n",
    "        if len(left) > 0 and len(right) > 0:    # left와 right 양쪽에 값이 있는 경우\n",
    "            if left[0] <= right[0]:             \n",
    "                sorted_list.append(left[0])     # left의 첫번째 값과 right의 첫번째 값을 비교하여 작은 값을 sorted_list에 넣기\n",
    "                left = left[1:]                 # 넣어준 값은 제외    \n",
    "                                                    # 파이썬에서 `인덱싱`(e.g. lst[1])은 범위 초과에 오류가 발생하지만 \n",
    "                                                    # `슬라이싱`(e.g. lst[1:])은 범위 초과에도 오류가 없이 값이 없는 부분은 비어 있는 채로 반환한다!!\n",
    "            else:\n",
    "                sorted_list.append(right[0])    # left의 첫번째 값과 right의 첫번째 값을 비교하여 작은 값을 sorted_list에 넣기\n",
    "                right = right[1:]               # 넣어준 값은 제외\n",
    "\n",
    "        elif len(left) > 0:                     # left에만 값이 있는 경우\n",
    "            sorted_list.append(left[0])         # 해당 값을 sorted_list에 넣기\n",
    "            left = left[1:]\n",
    "\n",
    "        elif len(right) > 0:                    # right에만 값이 있는 경우\n",
    "            sorted_list.append(right[0])        # 해당 값을 sorted_list에 넣기\n",
    "            right = right[1:]\n",
    "            \n",
    "    print(\"sorted_list: \", sorted_list)\n",
    "    print(\"================================\")\n",
    "    return sorted_list\n",
    "\n",
    "\n",
    "# 분할하는 함수 + 병합하는 함수\n",
    "def merge_sort(item_list):\n",
    "    print(\"======== merge_sort 함수 ========\")\n",
    "    if len(item_list) <= 1:\n",
    "        return item_list\n",
    "    \n",
    "    mid = len(item_list) // 2\n",
    "    left = item_list[:mid]\n",
    "    right = item_list[mid:]\n",
    "    print(\"left: \", left)\n",
    "    print(\"right: \", right)\n",
    "\n",
    "    left_rec = merge_sort(left)         # mid기준으로 왼쪽 부분에 대해서도 더 이상 쪼갤 수 없을 때까지 (len(item_list) <=1 일 때까지) 계속 똑같은 작업을 수행\n",
    "    right_rec = merge_sort(right)       # mid기준으로 오른쪽 부분에 대해서도 더 이상 쪼갤 수 없을 때까지 (len(item_list) <=1 일 때까지) 계속 똑같은 작업을 수행\n",
    "\n",
    "    return merge(left_rec, right_rec)   # 병합"
   ]
  },
  {
   "cell_type": "code",
   "execution_count": 143,
   "id": "564d7e1b",
   "metadata": {},
   "outputs": [
    {
     "name": "stdout",
     "output_type": "stream",
     "text": [
      "======== merge_sort 함수 ========\n",
      "left:  [33, 25, 42]\n",
      "right:  [1, 8, 51, 12]\n",
      "======== merge_sort 함수 ========\n",
      "left:  [33]\n",
      "right:  [25, 42]\n",
      "======== merge_sort 함수 ========\n",
      "======== merge_sort 함수 ========\n",
      "left:  [25]\n",
      "right:  [42]\n",
      "======== merge_sort 함수 ========\n",
      "======== merge_sort 함수 ========\n",
      "========== merge 함수 ==========\n",
      "left:  [25] right:  [42]\n",
      "sorted_list:  [25, 42]\n",
      "================================\n",
      "========== merge 함수 ==========\n",
      "left:  [33] right:  [25, 42]\n",
      "sorted_list:  [25, 33, 42]\n",
      "================================\n",
      "======== merge_sort 함수 ========\n",
      "left:  [1, 8]\n",
      "right:  [51, 12]\n",
      "======== merge_sort 함수 ========\n",
      "left:  [1]\n",
      "right:  [8]\n",
      "======== merge_sort 함수 ========\n",
      "======== merge_sort 함수 ========\n",
      "========== merge 함수 ==========\n",
      "left:  [1] right:  [8]\n",
      "sorted_list:  [1, 8]\n",
      "================================\n",
      "======== merge_sort 함수 ========\n",
      "left:  [51]\n",
      "right:  [12]\n",
      "======== merge_sort 함수 ========\n",
      "======== merge_sort 함수 ========\n",
      "========== merge 함수 ==========\n",
      "left:  [51] right:  [12]\n",
      "sorted_list:  [12, 51]\n",
      "================================\n",
      "========== merge 함수 ==========\n",
      "left:  [1, 8] right:  [12, 51]\n",
      "sorted_list:  [1, 8, 12, 51]\n",
      "================================\n",
      "========== merge 함수 ==========\n",
      "left:  [25, 33, 42] right:  [1, 8, 12, 51]\n",
      "sorted_list:  [1, 8, 12, 25, 33, 42, 51]\n",
      "================================\n"
     ]
    },
    {
     "data": {
      "text/plain": [
       "[1, 8, 12, 25, 33, 42, 51]"
      ]
     },
     "execution_count": 143,
     "metadata": {},
     "output_type": "execute_result"
    }
   ],
   "source": [
    "item_list = [33, 25, 42, 1, 8, 51, 12]\n",
    "merge_sort(item_list)"
   ]
  },
  {
   "cell_type": "markdown",
   "id": "0e418311",
   "metadata": {},
   "source": [
    "### 3) 퀵 정렬(quick sort)\n",
    "\n",
    "* 데이터의 초기 정렬 상태에 영향을 받음\n",
    "* 피벗의 선택이 중요\n",
    "* 평균 시간 복잡도: $O(nlog(n))$\n",
    "* 최악 시간 복잡도: $O(n^2)$\n",
    "\n",
    "<img src=\"image/Data Structure and Algorithm_quick_sort1.jpg\" width=\"600\" style=\"display: block; margin: 0;\">\n",
    "<br>\n",
    "\n",
    "> [1] pivot을 0번째 값으로 지정했다고 하자.     \n",
    "> [2] 이 pivot을 기준으로 list를 탐색하며 pivot보다 [작은 값들], [같은 값들], [큰 값들]로 모아서 나눠준다.\n",
    "\n",
    "<br>\n",
    "<img src=\"image/Data Structure and Algorithm_quick_sort2.jpg\" width=\"600\" style=\"display: block; margin: 0;\">\n",
    "<br>\n",
    "<img src=\"image/Data Structure and Algorithm_quick_sort3.jpg\" width=\"600\" style=\"display: block; margin: 0;\">\n",
    "<br>\n",
    "\n",
    "> [3] 나눠진 [작은 값들], [큰 값들]에 대해서 다시 quick_sort를 해준다.  $\\quad$ _- 재귀함수 이용: 따라서 이 때에도 pivot은 계속 위에서 정한 pivot과 같이 각 값들의 0번째 값_    \n",
    "> [4] 이를 나눠진 값들의 길이가 모두 1 이하일 때까지 반복한다.\n",
    "\n",
    "<br>\n",
    "<img src=\"image/Data Structure and Algorithm_quick_sort4.jpg\" width=\"600\" style=\"display: block; margin: 0;\">\n",
    "<br>\n",
    "\n",
    "> [5] 최종적으로 나눠진 값들을 그대로 이어 붙여주면 된다."
   ]
  },
  {
   "cell_type": "code",
   "execution_count": null,
   "id": "3cf86c0b",
   "metadata": {},
   "outputs": [],
   "source": [
    "def quick_sort(item_list):\n",
    "    n = len(item_list)\n",
    "    if n <= 1:\n",
    "        return item_list\n",
    "    \n",
    "    else:\n",
    "        pivot = item_list[0]\n",
    "        greater_list = []\n",
    "        eq_list = []\n",
    "        less_list = []\n",
    "        for element in item_list:\n",
    "            if element > pivot:\n",
    "                greater_list.append(element)\n",
    "            elif element < pivot:\n",
    "                less_list.append(element)\n",
    "            else:\n",
    "                eq_list.append(element)\n",
    "        return quick_sort(less_list) + eq_list + quick_sort(greater_list)   # 재귀 & 나눠진 값들을 그대로 이어 붙여줌"
   ]
  },
  {
   "cell_type": "code",
   "execution_count": 164,
   "id": "30eff60f",
   "metadata": {},
   "outputs": [
    {
     "data": {
      "text/plain": [
       "[1, 1, 2, 2, 2, 3, 5, 9]"
      ]
     },
     "execution_count": 164,
     "metadata": {},
     "output_type": "execute_result"
    }
   ],
   "source": [
    "lst = [2, 5, 1, 9, 2, 3, 2, 1]\n",
    "quick_sort(lst)"
   ]
  },
  {
   "cell_type": "markdown",
   "id": "904ae66c",
   "metadata": {},
   "source": [
    "### 4) 메모이제이션(memoization)\n",
    "* 중복 계산을 피하기 위해 이미 계산한 값을 저장해 놓음\n",
    "* 중복 계산시 이미 저장되어 있는 값 사용\n",
    "> * 재귀함수 vs 메모이제이션\n",
    ">\n",
    "> | 개념         | 설명                                                  |\n",
    ">| ---------- | --------------------------------------------------- |\n",
    ">| **재귀함수**   | 함수가 자기 자신을 호출하는 방식<br>예: 팩토리얼, 피보나치 등               |\n",
    ">| **메모이제이션** | 이미 계산한 값을 저장해두고<br>동일한 입력에 대해 다시 계산하지 않도록 하는 최적화 기법 |\n",
    ">\n",
    "> 재귀는 계산을 반복하는 구조.  \n",
    "> 메모이제이션은 중복 계산을 피하기 위한 캐싱.  \n",
    "> 따라서 둘을 함께 쓰면 효율이 급격히 좋아짐."
   ]
  },
  {
   "cell_type": "markdown",
   "id": "4d653ec6",
   "metadata": {},
   "source": [
    "예시)\n",
    "- 가령 피보나치 수열의 6번째 값을 찾으려면 4,5번째 값의 합을 찾아야 하는데,   \n",
    "- 5번째 값을 찾으려면 3,4번째 값을 알아야 함  \n",
    "- 4번째 값을 저장해두었다면 바로 꺼내 쓰면 되겠지만(메모이제이션), 저장하지 않은 경우(메모이제이션X)는 중복해서 계산을 하게 된다.    "
   ]
  },
  {
   "cell_type": "code",
   "execution_count": null,
   "id": "84debddb",
   "metadata": {},
   "outputs": [],
   "source": [
    "# 피보나치 수열\n",
    "# 재귀만 사용 (중복호출 많음)\n",
    "def fib_recursive(n):\n",
    "    if n <= 1:\n",
    "        return n\n",
    "    return fib_recursive(n-1) + fib_recursive(n-2)\n",
    "\n",
    "\n",
    "# 메모이제이션 적용\n",
    "res = {}    # 이미 계산한 값을 딕셔너리로 저장\n",
    "def fib_memoization(n):\n",
    "    print(f\"실행! → n = {n}\")\n",
    "    if n in res:                # 이미 저장된 게 있으면 불러오라는 코드\n",
    "        return res[n]\n",
    "    if n <= 1:\n",
    "        return n\n",
    "    res[n] = fib_memoization(n-1) + fib_memoization(n-2)    # 이전 두 값을 더해서 res에 저장\n",
    "    print(res)\n",
    "    return res[n]"
   ]
  },
  {
   "cell_type": "code",
   "execution_count": 151,
   "id": "360f67d1",
   "metadata": {},
   "outputs": [
    {
     "name": "stdout",
     "output_type": "stream",
     "text": [
      "실행! → n = 20\n",
      "실행! → n = 19\n",
      "실행! → n = 18\n",
      "실행! → n = 17\n",
      "실행! → n = 16\n",
      "실행! → n = 15\n",
      "실행! → n = 14\n",
      "실행! → n = 13\n",
      "실행! → n = 12\n",
      "실행! → n = 11\n",
      "실행! → n = 10\n",
      "실행! → n = 9\n",
      "실행! → n = 8\n",
      "실행! → n = 7\n",
      "실행! → n = 6\n",
      "실행! → n = 5\n",
      "실행! → n = 4\n",
      "실행! → n = 3\n",
      "실행! → n = 2\n",
      "실행! → n = 1\n",
      "실행! → n = 0\n",
      "{2: 1}\n",
      "실행! → n = 1\n",
      "{2: 1, 3: 2}\n",
      "실행! → n = 2\n",
      "{2: 1, 3: 2, 4: 3}\n",
      "실행! → n = 3\n",
      "{2: 1, 3: 2, 4: 3, 5: 5}\n",
      "실행! → n = 4\n",
      "{2: 1, 3: 2, 4: 3, 5: 5, 6: 8}\n",
      "실행! → n = 5\n",
      "{2: 1, 3: 2, 4: 3, 5: 5, 6: 8, 7: 13}\n",
      "실행! → n = 6\n",
      "{2: 1, 3: 2, 4: 3, 5: 5, 6: 8, 7: 13, 8: 21}\n",
      "실행! → n = 7\n",
      "{2: 1, 3: 2, 4: 3, 5: 5, 6: 8, 7: 13, 8: 21, 9: 34}\n",
      "실행! → n = 8\n",
      "{2: 1, 3: 2, 4: 3, 5: 5, 6: 8, 7: 13, 8: 21, 9: 34, 10: 55}\n",
      "실행! → n = 9\n",
      "{2: 1, 3: 2, 4: 3, 5: 5, 6: 8, 7: 13, 8: 21, 9: 34, 10: 55, 11: 89}\n",
      "실행! → n = 10\n",
      "{2: 1, 3: 2, 4: 3, 5: 5, 6: 8, 7: 13, 8: 21, 9: 34, 10: 55, 11: 89, 12: 144}\n",
      "실행! → n = 11\n",
      "{2: 1, 3: 2, 4: 3, 5: 5, 6: 8, 7: 13, 8: 21, 9: 34, 10: 55, 11: 89, 12: 144, 13: 233}\n",
      "실행! → n = 12\n",
      "{2: 1, 3: 2, 4: 3, 5: 5, 6: 8, 7: 13, 8: 21, 9: 34, 10: 55, 11: 89, 12: 144, 13: 233, 14: 377}\n",
      "실행! → n = 13\n",
      "{2: 1, 3: 2, 4: 3, 5: 5, 6: 8, 7: 13, 8: 21, 9: 34, 10: 55, 11: 89, 12: 144, 13: 233, 14: 377, 15: 610}\n",
      "실행! → n = 14\n",
      "{2: 1, 3: 2, 4: 3, 5: 5, 6: 8, 7: 13, 8: 21, 9: 34, 10: 55, 11: 89, 12: 144, 13: 233, 14: 377, 15: 610, 16: 987}\n",
      "실행! → n = 15\n",
      "{2: 1, 3: 2, 4: 3, 5: 5, 6: 8, 7: 13, 8: 21, 9: 34, 10: 55, 11: 89, 12: 144, 13: 233, 14: 377, 15: 610, 16: 987, 17: 1597}\n",
      "실행! → n = 16\n",
      "{2: 1, 3: 2, 4: 3, 5: 5, 6: 8, 7: 13, 8: 21, 9: 34, 10: 55, 11: 89, 12: 144, 13: 233, 14: 377, 15: 610, 16: 987, 17: 1597, 18: 2584}\n",
      "실행! → n = 17\n",
      "{2: 1, 3: 2, 4: 3, 5: 5, 6: 8, 7: 13, 8: 21, 9: 34, 10: 55, 11: 89, 12: 144, 13: 233, 14: 377, 15: 610, 16: 987, 17: 1597, 18: 2584, 19: 4181}\n",
      "실행! → n = 18\n",
      "{2: 1, 3: 2, 4: 3, 5: 5, 6: 8, 7: 13, 8: 21, 9: 34, 10: 55, 11: 89, 12: 144, 13: 233, 14: 377, 15: 610, 16: 987, 17: 1597, 18: 2584, 19: 4181, 20: 6765}\n",
      "\n",
      "재귀만 사용했을 때 걸린 시간: 0.0009992122650146484 초\n",
      "메모이제이션 적용했을 때 걸린 시간: 0.0 초\n"
     ]
    }
   ],
   "source": [
    "# 실행시간 비교\n",
    "import time\n",
    "\n",
    "# 재귀만 사용\n",
    "start_time1 = time.time()  \n",
    "fib_recursive_res = fib_recursive(20)\n",
    "end_time1 = time.time() \n",
    "\n",
    "# 메모이제이션 적용\n",
    "start_time2 = time.time()  \n",
    "fib_memoization_res = fib_memoization(20)\n",
    "end_time2 = time.time() \n",
    "\n",
    "print()\n",
    "print(\"재귀만 사용했을 때 걸린 시간:\", end_time1 - start_time1, \"초\")\n",
    "print(\"메모이제이션 적용했을 때 걸린 시간:\", end_time2 - start_time2, \"초\")"
   ]
  },
  {
   "cell_type": "markdown",
   "id": "2f83e08a",
   "metadata": {},
   "source": [
    "```arduino\n",
    "fib(20)\n",
    " └── fib(19)\n",
    "      └── fib(18)\n",
    "           ...\n",
    "                └── fib(2)\n",
    "                     └── fib(1) → 1\n",
    "                     └── fib(0) → 0\n",
    "                     → res[2] = 1     ← 여기서부터 올라가며 res 저장 + print\n",
    "                → res[3] = 2\n",
    "           ...\n",
    "     → res[20] = 6765\n",
    "```"
   ]
  },
  {
   "cell_type": "code",
   "execution_count": null,
   "id": "c3deb4df",
   "metadata": {},
   "outputs": [
    {
     "name": "stdout",
     "output_type": "stream",
     "text": [
      "실행! → n = 30\n",
      "실행! → n = 29\n",
      "실행! → n = 28\n",
      "실행! → n = 27\n",
      "실행! → n = 26\n",
      "실행! → n = 25\n",
      "실행! → n = 24\n",
      "실행! → n = 23\n",
      "실행! → n = 22\n",
      "실행! → n = 21\n",
      "실행! → n = 20\n",
      "실행! → n = 19\n",
      "{2: 1, 3: 2, 4: 3, 5: 5, 6: 8, 7: 13, 8: 21, 9: 34, 10: 55, 11: 89, 12: 144, 13: 233, 14: 377, 15: 610, 16: 987, 17: 1597, 18: 2584, 19: 4181, 20: 6765, 21: 10946}\n",
      "실행! → n = 20\n",
      "{2: 1, 3: 2, 4: 3, 5: 5, 6: 8, 7: 13, 8: 21, 9: 34, 10: 55, 11: 89, 12: 144, 13: 233, 14: 377, 15: 610, 16: 987, 17: 1597, 18: 2584, 19: 4181, 20: 6765, 21: 10946, 22: 17711}\n",
      "실행! → n = 21\n",
      "{2: 1, 3: 2, 4: 3, 5: 5, 6: 8, 7: 13, 8: 21, 9: 34, 10: 55, 11: 89, 12: 144, 13: 233, 14: 377, 15: 610, 16: 987, 17: 1597, 18: 2584, 19: 4181, 20: 6765, 21: 10946, 22: 17711, 23: 28657}\n",
      "실행! → n = 22\n",
      "{2: 1, 3: 2, 4: 3, 5: 5, 6: 8, 7: 13, 8: 21, 9: 34, 10: 55, 11: 89, 12: 144, 13: 233, 14: 377, 15: 610, 16: 987, 17: 1597, 18: 2584, 19: 4181, 20: 6765, 21: 10946, 22: 17711, 23: 28657, 24: 46368}\n",
      "실행! → n = 23\n",
      "{2: 1, 3: 2, 4: 3, 5: 5, 6: 8, 7: 13, 8: 21, 9: 34, 10: 55, 11: 89, 12: 144, 13: 233, 14: 377, 15: 610, 16: 987, 17: 1597, 18: 2584, 19: 4181, 20: 6765, 21: 10946, 22: 17711, 23: 28657, 24: 46368, 25: 75025}\n",
      "실행! → n = 24\n",
      "{2: 1, 3: 2, 4: 3, 5: 5, 6: 8, 7: 13, 8: 21, 9: 34, 10: 55, 11: 89, 12: 144, 13: 233, 14: 377, 15: 610, 16: 987, 17: 1597, 18: 2584, 19: 4181, 20: 6765, 21: 10946, 22: 17711, 23: 28657, 24: 46368, 25: 75025, 26: 121393}\n",
      "실행! → n = 25\n",
      "{2: 1, 3: 2, 4: 3, 5: 5, 6: 8, 7: 13, 8: 21, 9: 34, 10: 55, 11: 89, 12: 144, 13: 233, 14: 377, 15: 610, 16: 987, 17: 1597, 18: 2584, 19: 4181, 20: 6765, 21: 10946, 22: 17711, 23: 28657, 24: 46368, 25: 75025, 26: 121393, 27: 196418}\n",
      "실행! → n = 26\n",
      "{2: 1, 3: 2, 4: 3, 5: 5, 6: 8, 7: 13, 8: 21, 9: 34, 10: 55, 11: 89, 12: 144, 13: 233, 14: 377, 15: 610, 16: 987, 17: 1597, 18: 2584, 19: 4181, 20: 6765, 21: 10946, 22: 17711, 23: 28657, 24: 46368, 25: 75025, 26: 121393, 27: 196418, 28: 317811}\n",
      "실행! → n = 27\n",
      "{2: 1, 3: 2, 4: 3, 5: 5, 6: 8, 7: 13, 8: 21, 9: 34, 10: 55, 11: 89, 12: 144, 13: 233, 14: 377, 15: 610, 16: 987, 17: 1597, 18: 2584, 19: 4181, 20: 6765, 21: 10946, 22: 17711, 23: 28657, 24: 46368, 25: 75025, 26: 121393, 27: 196418, 28: 317811, 29: 514229}\n",
      "실행! → n = 28\n",
      "{2: 1, 3: 2, 4: 3, 5: 5, 6: 8, 7: 13, 8: 21, 9: 34, 10: 55, 11: 89, 12: 144, 13: 233, 14: 377, 15: 610, 16: 987, 17: 1597, 18: 2584, 19: 4181, 20: 6765, 21: 10946, 22: 17711, 23: 28657, 24: 46368, 25: 75025, 26: 121393, 27: 196418, 28: 317811, 29: 514229, 30: 832040}\n",
      "\n",
      "재귀만 사용했을 때 걸린 시간: 0.06990885734558105 초\n",
      "메모이제이션 적용했을 때 걸린 시간: 0.0 초\n"
     ]
    }
   ],
   "source": [
    "# 30으로 올려 추가적으로 실행해보면?\n",
    "# 재귀만 사용\n",
    "start_time1 = time.time()  \n",
    "fib_recursive_res = fib_recursive(30)\n",
    "end_time1 = time.time() \n",
    "\n",
    "# 메모이제이션 적용\n",
    "start_time2 = time.time()  \n",
    "fib_memoization_res = fib_memoization(30)\n",
    "end_time2 = time.time() \n",
    "\n",
    "print()\n",
    "print(\"재귀만 사용했을 때 걸린 시간:\", end_time1 - start_time1, \"초\")\n",
    "print(\"메모이제이션 적용했을 때 걸린 시간:\", end_time2 - start_time2, \"초\")"
   ]
  },
  {
   "cell_type": "markdown",
   "id": "85e5a11f",
   "metadata": {},
   "source": [
    "> - 메모이제이션을 적용한 경우 이미 피보나치 수열 20번째 값까지는 저장되어 있으므로 21부터 계산됨을 확인할 수 있다."
   ]
  },
  {
   "cell_type": "markdown",
   "id": "8324a465",
   "metadata": {},
   "source": [
    "### 5) 다이나믹 프로그래밍(dynamic programming)\n",
    "* 복잡한 문제를 작은 문제로 나눠서 푸는 기법 (분할 정복)\n",
    "* 이전에 계산한 결과를 저장한 후 재활용 (메모이제이션과 비슷)\n",
    "\n",
    "|       |   다이나믹 프로그래밍   |   메모이제이션    |\n",
    "|:-----:|:--------------------:|:---------------:|\n",
    "|접근 방식| Bottom-up           | Top-down          |\n",
    "|처리 방식| 반복문              | 재귀              |\n",
    "|중간 결과 저장|    O           |   O               |"
   ]
  },
  {
   "cell_type": "code",
   "execution_count": 159,
   "id": "8964f031",
   "metadata": {},
   "outputs": [],
   "source": [
    "# 피보나치 수열\n",
    "def fibonacci_dp(n):\n",
    "    if n <= 1:\n",
    "        return n\n",
    "    \n",
    "    dp = [0, 1]     # 초기값 F(0) = 1, F(1) = 1\n",
    "    for i in range(2, n+1):\n",
    "        dp.append(dp[i-1] + dp[i-2])\n",
    "    return dp[n], dp    # 피보나치 수열의 n번째 수, n번째 수까지 피보나치 수열"
   ]
  },
  {
   "cell_type": "code",
   "execution_count": 160,
   "id": "f2a5700a",
   "metadata": {},
   "outputs": [
    {
     "name": "stdout",
     "output_type": "stream",
     "text": [
      "6765\n",
      "[0, 1, 1, 2, 3, 5, 8, 13, 21, 34, 55, 89, 144, 233, 377, 610, 987, 1597, 2584, 4181, 6765]\n"
     ]
    }
   ],
   "source": [
    "res, dp = fibonacci_dp(20)\n",
    "print(res)\n",
    "print(dp)"
   ]
  },
  {
   "cell_type": "code",
   "execution_count": 169,
   "id": "626549fa",
   "metadata": {},
   "outputs": [],
   "source": [
    "# 동전으로 특정 금액을 만들 수 있는 경우의 수 찾기\n",
    "def count_coin(n):                  # n원을 만들 수 잇는 경우의 수를 구하는 함수\n",
    "    coins = [10, 50, 100, 500]      # 사용할 수 있는 동전의 종류\n",
    "    res = [0] * (n+1)               # res[i]: i 원을 만드는 경우의 수. res[0]부터 res[n]까지 총 n+1개의 원소가 필요하므로 n+1 크기로 만듦. 초기에는 모두 0으로 설정\n",
    "    res[0] = 1                      # 0원 만드는 방법은 1가지 (돈 안씀)\n",
    "\n",
    "    for coin  in coins:             # 각 동전(10, 50, 100, 500)을 차례로 사용하면서 경우의 수를 누적\n",
    "                                    # \"작은 단위 동전부터 하나씩 누적해서 조합을 완성해나간다\"는 동적 프로그래밍 방식\n",
    "        for amount in range(coin, n+1):         # 현재 동전 coin을 사용해서 만들 수 있는 금액은 coin 이상이므로 coin부터 n까지 반복\n",
    "            res[amount] += res[amount - coin]   # amount원을 만드는 방법: (amount - coin)원을 만들고 거기에 coin 동전을 추가하는 방식!\n",
    "                                                # 그러므로 res[amount - coin]만큼의 경우의 수를 res[amount]에 더해준다.\n",
    "                                                # 기존에 저장되어있는 res[amount - coin]을 불러온다는 점에서 메모이제이션(memoization)과 비슷하다.\n",
    "    # print(res)\n",
    "    return res[n]"
   ]
  },
  {
   "cell_type": "code",
   "execution_count": 170,
   "id": "7723317f",
   "metadata": {},
   "outputs": [
    {
     "data": {
      "text/plain": [
       "242"
      ]
     },
     "execution_count": 170,
     "metadata": {},
     "output_type": "execute_result"
    }
   ],
   "source": [
    "count_coin(1200)"
   ]
  }
 ],
 "metadata": {
  "kernelspec": {
   "display_name": "venv312",
   "language": "python",
   "name": "python3"
  },
  "language_info": {
   "codemirror_mode": {
    "name": "ipython",
    "version": 3
   },
   "file_extension": ".py",
   "mimetype": "text/x-python",
   "name": "python",
   "nbconvert_exporter": "python",
   "pygments_lexer": "ipython3",
   "version": "3.12.10"
  }
 },
 "nbformat": 4,
 "nbformat_minor": 5
}

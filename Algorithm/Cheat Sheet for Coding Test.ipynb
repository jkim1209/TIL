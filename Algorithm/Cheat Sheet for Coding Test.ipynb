{
 "cells": [
  {
   "cell_type": "markdown",
   "id": "82945fd0",
   "metadata": {},
   "source": [
    "# [기본]"
   ]
  },
  {
   "cell_type": "markdown",
   "id": "55637c57",
   "metadata": {},
   "source": [
    "## 0. 일반적인 샘플 수에 따른 시간복잡도 허용 \n",
    "\n",
    "| 시간복잡도              | 최대 n 허용 범위 (안전한 상한)    | 예시                     |\n",
    "| ------------------ | ---------------------- | ---------------------- |\n",
    "| $O(1), O(log(n))$ | $10^8$ 이상도 가능             | 이진 탐색, 해시 조회 등         |\n",
    "| $O(n)$             | 약 $10^7$ 이하               | 단순 순회, 슬라이딩 윈도우 등      |\n",
    "| $O(nlog(n))$       | 약 $10^6$ 이하               | 정렬, 힙 등       |\n",
    "| $O(n^2)$            | 약 $5,000\\sim10,000$ 이하 | 2중 루프 등 |\n",
    "| $O(n^3)$ 이상       | $500$ 이하                 | 3중 루프 등       |"
   ]
  },
  {
   "cell_type": "markdown",
   "id": "90137f5b",
   "metadata": {},
   "source": [
    "## 1. dir - 자료구조 메서드 이름 기억 안날 때"
   ]
  },
  {
   "cell_type": "code",
   "execution_count": null,
   "id": "c950fd65",
   "metadata": {},
   "outputs": [],
   "source": [
    "# set에 대한 메서드\n",
    "print(dir(set([])))\n",
    "\n",
    "# ['__and__', '__class__', '__class_getitem__', '__contains__', '__delattr__', '__dir__', '__doc__', \n",
    "# '__eq__', '__format__', '__ge__', '__getattribute__', '__getstate__', '__gt__', '__hash__', '__iand__', \n",
    "# '__init__', '__init_subclass__', '__ior__', '__isub__', '__iter__', '__ixor__', '__le__', '__len__', \n",
    "# '__lt__', '__ne__', '__new__', '__or__', '__rand__', '__reduce__', '__reduce_ex__', '__repr__', '__ror__', \n",
    "# '__rsub__', '__rxor__', '__setattr__', '__sizeof__', '__str__', '__sub__', '__subclasshook__', '__xor__', \n",
    "# 'add', 'clear', 'copy', 'difference', 'difference_update', 'discard', 'intersection', 'intersection_update', \n",
    "# 'isdisjoint', 'issubset', 'issuperset', 'pop', 'remove', 'symmetric_difference', 'symmetric_difference_update', \n",
    "# 'union', 'update']"
   ]
  },
  {
   "cell_type": "markdown",
   "id": "f8cebb46",
   "metadata": {},
   "source": [
    "## 2. 빠른 입출력\n",
    "\n",
    "- 입출력방식만 기본방식에서 빠른 입출력 방식으로 바꿔도 시간 효율성 문제가 해결되는 경우가 종종 있다."
   ]
  },
  {
   "cell_type": "code",
   "execution_count": null,
   "id": "ff788ed3",
   "metadata": {},
   "outputs": [],
   "source": [
    "import sys\n",
    "\n",
    "# input()대신 빠른입력\n",
    "x = sys.stdin.readline().rstrip()   # 입력 끝에 개행 문자 \\n이 포함되므로, 필요하다면 .strip()으로 제거\n",
    "# print()대신 빠른출력\n",
    "sys.stdout.write(x + \"\\n\")          # print()와 달리 줄바꿈을 자동으로 해주지 않으므로 필요하다면 끝에 개행문자 \\n을 붙여줌\n",
    "\n",
    "\n",
    "# 혹은 기존처럼 input(), print()명령어를 쓰면서 자동으로 빠른입출력으로 쓰고 싶다면 다음을 설정\n",
    "input = sys.stdin.readline\n",
    "print = sys.stdout.write\n",
    "# 이제 기존처럼 input(), print()이용\n",
    "x = input().rstrip()\n",
    "print(x + \"\\n\")"
   ]
  },
  {
   "cell_type": "markdown",
   "id": "b5a7b5c8",
   "metadata": {},
   "source": [
    "## 3. lambda"
   ]
  },
  {
   "cell_type": "markdown",
   "id": "ab75a3b9",
   "metadata": {},
   "source": [
    "### 3-1. `map(lambda, iterable)`\n",
    "- 목적: `iterable`의 각 요소를 변환\n",
    "\n",
    "> `조건문`을 lambda 함수나 map 함수와 결합가능      \n",
    "> * 조건문 표현식에 콜론(:) 사용하지 않음     \n",
    "> * if를 사용했다면 `반드시 else 사용`해야 함     \n",
    "> * `elif 사용 불가`하고 if를 연속적으로 사용해야 함      \n",
    "\n",
    "```python\n",
    "lambda 매개변수들: 매개변수 식1(조건식 참일때) if 조건식 else 식2(조건식 거짓일때)\n",
    "lambda 매개변수들: 매개변수 식1(조건식1 참일때) if 조건식1 else 식2(조건식2 참일때) if 조건식2 else 식3(조건식1,2 모두 거짓일때)\n",
    "```"
   ]
  },
  {
   "cell_type": "code",
   "execution_count": null,
   "id": "5f69e790",
   "metadata": {},
   "outputs": [],
   "source": [
    "nums = [1, 2, 3, 4, 5, 6, 7, 8, 9, 10]\n",
    "\n",
    "squares = list(map(lambda x: x ** 2, nums))\n",
    "print(squares)  # [1, 4, 9, 16, 25, 36, 49, 64, 81, 100]\n",
    "\n",
    "# 조건문 사용\n",
    "print(list(map(lambda x: str(x) if x % 3 == 0 else x, nums)))\n",
    "# [1, 2, '3', 4, 5, '6', 7, 8, '9', 10]\n",
    "\n",
    "# 조건문 여러개도 결합 가능\n",
    "print(list(map(lambda x: str(x) if x % 3 == 0 else float(x) if x % 5 == 0 else x+10, nums)))\n",
    "# [11, 12, '3', 14, 5.0, '6', 17, 18, '9', 10.0]"
   ]
  },
  {
   "cell_type": "code",
   "execution_count": null,
   "id": "9c38e788",
   "metadata": {},
   "outputs": [],
   "source": [
    "# 프로그램(함수) 작성\n",
    "img_function = lambda files: [i for i in files if i[-4:] in ['.jpg','.png']]\n",
    "\n",
    "# 입력\n",
    "files = ['font', '1.png', '10.jpg', '11.gif', '2.jpg', '3.png', 'table.xslx', 'spec.docx']\n",
    "# 출력\n",
    "print(img_function(files))      # ['1.png', '10.jpg', '2.jpg', '3.png']\n",
    "\n",
    "# --- #\n",
    "\n",
    "# 같은 문제를 map을 써서 풀어본다면,\n",
    "\n",
    "# img_function = lambda x: x if x[-4:] in ['.png','.jpg']               # else 가 없으면 에러\n",
    "# img_function = lambda x: x if x[-4:] in ['.png','.jpg'] else pass     # lambda 에서는 pass를 쓸 수 없다.\n",
    "img_function = lambda x: x if x[-4:] in ['.png','.jpg'] else None\n",
    "files = ['font', '1.png', '10.jpg', '11.gif', '2.jpg', '3.png', 'table.xslx', 'spec.docx']\n",
    "\n",
    "print(list(map(img_function, files)))       # [None, '1.png', '10.jpg', None, '2.jpg', '3.png', None, None]\n",
    "\n",
    "# None을 제외한 파일명들만 나오게 하려면 filter함수 사용"
   ]
  },
  {
   "cell_type": "markdown",
   "id": "4091da3a",
   "metadata": {},
   "source": [
    "### 3-2. `filter(lambda, iterable)`\n",
    "- 목적: 조건을 만족하는 요소만 걸러냄\n",
    "- map과 동일한 구조지만 `조건식이 참인 입력값들만 출력`\n",
    "\n",
    "```python\n",
    "even_num = lambda x:x%2==0\n",
    "nums = [0, 1, 2, 3, 4, 5, 6, 7, 8, 9]\n",
    "\n",
    "print(list(map(even_num, nums)))    # [True, False, True, False, True, False, True, False, True, False]\n",
    "print(list(filter(even_num, nums))) # [0, 2, 4, 6, 8]\n",
    "```"
   ]
  },
  {
   "cell_type": "code",
   "execution_count": null,
   "id": "c51e37a8",
   "metadata": {},
   "outputs": [],
   "source": [
    "nums = [1, 2, 3, 4, 5, 6]\n",
    "evens = list(filter(lambda x: x % 2 == 0, nums))\n",
    "print(evens)  # [2, 4, 6]"
   ]
  },
  {
   "cell_type": "code",
   "execution_count": null,
   "id": "9cd6ef35",
   "metadata": {},
   "outputs": [],
   "source": [
    "words = [\"Hello\", \"world\", \"Python\", \"is\", \"Awesome\"]\n",
    "\n",
    "# 길이 ≥ 5인 단어를 소문자로 변환\n",
    "result = list(map(lambda w: w.lower(), filter(lambda w: len(w) >= 5, words)))\n",
    "print(result)  # ['hello', 'world', 'python', 'awesome']"
   ]
  },
  {
   "cell_type": "code",
   "execution_count": null,
   "id": "651427fd",
   "metadata": {},
   "outputs": [],
   "source": [
    "# 참고: 가능하다면 map/filter + lambda 보다는 list comprehension이 훨씬 가독성 좋고 빠르다.\n",
    "data = [8, 3, 2, 10, 15, 7, 1, 9, 0, 11]\n",
    "\n",
    "print(list(filter(lambda x: x>5 and x<10, data)))   # [8, 7, 9]\n",
    "print([i for i in data if i>5 and i<10])    # [8, 7, 9]"
   ]
  },
  {
   "cell_type": "markdown",
   "id": "07cab925",
   "metadata": {},
   "source": [
    "### 3-3. `reduce(lambda, iterable)`\n",
    "- 목적: `iterable`을 누적하여 하나의 값으로 축소\n"
   ]
  },
  {
   "cell_type": "code",
   "execution_count": null,
   "id": "f1923a7e",
   "metadata": {},
   "outputs": [],
   "source": [
    "from functools import reduce\n",
    "\n",
    "nums = [1, 2, 3, 4]\n",
    "product = reduce(lambda x, y: x * y, nums)\n",
    "print(product)  # 24"
   ]
  },
  {
   "cell_type": "markdown",
   "id": "011e3d7d",
   "metadata": {},
   "source": [
    "## 4. filter"
   ]
  },
  {
   "cell_type": "markdown",
   "id": "6bfd6348",
   "metadata": {},
   "source": [
    "### 4-1. filter 함수 사용"
   ]
  },
  {
   "cell_type": "code",
   "execution_count": null,
   "id": "7e082a0b",
   "metadata": {},
   "outputs": [],
   "source": [
    "nums = [3, 5, 4, 8, 9]\n",
    "nums = list(filter(lambda n: n%2 !=0, nums))\n",
    "\n",
    "print(nums) # [3, 5, 9]"
   ]
  },
  {
   "cell_type": "markdown",
   "id": "74ca96ad",
   "metadata": {},
   "source": [
    "### 4-2. List Comprehension 사용\n",
    "\n",
    "* 참고: List Comprehension은 오직 '리스트를 생성'할때만 쓰인다.\n",
    "* 리스트 뿐만 아니라 Tuple, Dict, Set Comprehension도 가능"
   ]
  },
  {
   "cell_type": "code",
   "execution_count": null,
   "id": "b8dd378e",
   "metadata": {},
   "outputs": [],
   "source": [
    "# 필터링 (if를 뒤쪽에 쓰는 경우)\n",
    "nums = [3, 5, 4, 8, 9]\n",
    "nums = [n for n in nums if n%2 != 0]\n",
    "\n",
    "print(nums) # [3, 5, 9]\n",
    "\n",
    "# 값 변환 (if-else를 앞쪽에 쓰는 경우)\n",
    "nums = [1, -2, 3, -4]\n",
    "nums = [i if i>0 else 0 for i in nums]\t\t\n",
    "\n",
    "print(nums) # [1, 0, 3, 0]\n",
    "\n",
    "# 다중 조건(elif를 쓸 수 없으므로 중첩된 조건식으로 대체)\n",
    "lst = [1, -2, 0, 3, 0, -4]\n",
    "result = [1 if x > 0 else 0 if x == 0 else -1 for x in lst]\n",
    "\n",
    "print(result)   # [1, -1, 0, 1, 0, -1]"
   ]
  },
  {
   "cell_type": "markdown",
   "id": "e14f3c30",
   "metadata": {},
   "source": [
    "## 5. enumerate\n",
    "Iterable을 입력 받고 for쓰면서도 index 살리고 싶을 때 사용한다"
   ]
  },
  {
   "cell_type": "code",
   "execution_count": null,
   "id": "c428d57b",
   "metadata": {},
   "outputs": [],
   "source": [
    "for k, v in enumerate(\"abcde\"):\n",
    "    print(f'{k}. {v}')\n",
    "\n",
    "# 0. a\n",
    "# 1. b\n",
    "# 2. c\n",
    "# 3. d\n",
    "# 4. e"
   ]
  },
  {
   "cell_type": "markdown",
   "id": "42369788",
   "metadata": {},
   "source": [
    "## 6. 반올림\n",
    "- **중요!!! round()는 사사오입이 아니라 오사오입이다.**\n",
    "- 사사오입이 필요한 경우, int(x+0.5)를 활용하자."
   ]
  },
  {
   "cell_type": "code",
   "execution_count": null,
   "id": "d65127d4",
   "metadata": {},
   "outputs": [],
   "source": [
    "print(round(0.4))   # 0\n",
    "print(round(0,5))   # 0\n",
    "print(round(0.6))   # 1\n",
    "\n",
    "print(int(0.49 + 0.5))  # 0\n",
    "print(int(0.5 + 0.5))   # 1\n",
    "print(int(1 + 0.5))     # 1\n",
    "print(int(0.51 + 0.5))  # 1"
   ]
  },
  {
   "cell_type": "markdown",
   "id": "fda362ce",
   "metadata": {},
   "source": [
    "## 7. 음수 나머지 연산"
   ]
  },
  {
   "cell_type": "code",
   "execution_count": null,
   "id": "b68d909d",
   "metadata": {},
   "outputs": [],
   "source": [
    "print(-1 % 10000)   # 9999\n",
    "print(-1 % 1)   # 0\n",
    "print(-1 % 5)   # 4"
   ]
  },
  {
   "cell_type": "markdown",
   "id": "49532462",
   "metadata": {},
   "source": [
    "## 8. 해시 테이블\n",
    "- `hash()`는 immutable 객체(한 번 만들면 안에 있는 값을 바꿀 수 없는 객체)를 입력받아 해시값(정수)을 반환하는 함수\n",
    "- 해시 테이블은 `key → hash(key) → index` 과정을 통해 데이터를 저장/검색하는 구조\n",
    "- `dict`, `set` 등의 내부 동작에서 키 검색을 빠르게 하기 위해 사용됨\n",
    "- 리스트나 딕셔너리처럼 mutable 객체는 해시 불가\n",
    "- 평균 시간 복잡도: 삽입/검색/삭제 모두 O(1) \n",
    "- 예) `x in list`의 시간 복잡도는 $O(N)$ vs. `x in set`의 시간 복잡도는 $O(1)$\n",
    "\n",
    "- **결론**: 검색/삽입/삭제를 빠르게 하고 싶을 때 → 무조건 `dict`나 `set`을 먼저 떠올려야 함\n",
    "    * `dict`: 특정한 데이터의 등장 횟수를 셀 때 효과적으로 사용할 수 있다.  \n",
    "    * `set` : 특정한 데이터가 등장한 적 있는지 체크할 때 효과적으로 사용된다.\n",
    "\n",
    ">- 코딩 테스트에서 해시 테이블이 쓰이는 대표 상황    \n",
    ">\n",
    ">| 문제 유형    | 예시                       |\n",
    ">| -------- | --------------------------------- |\n",
    ">| 중복 제거    | `set()` 사용                        |\n",
    ">| 등장 횟수 세기 | `dict`, `collections.Counter()`   |\n",
    ">| 빠른 탐색    | `x in dict`, `x in set`           |\n",
    ">| 매핑 저장    | `name → 점수`, `문자열 → 숫자`, `좌표 → 값` |"
   ]
  },
  {
   "cell_type": "code",
   "execution_count": null,
   "id": "10188153",
   "metadata": {},
   "outputs": [],
   "source": [
    "print(hash(\"apple\"))     # 문자열\n",
    "print(hash(1234))        # 정수\n",
    "print(hash((1, 2, 3)))   # 튜플 (mutable 자료형인 리스트는 불가)\n",
    "\n",
    "# dict 예시1 (해시 테이블 기반 동작)\n",
    "d = {}\n",
    "d[\"apple\"] = 10\n",
    "print(d[\"apple\"])  # 10\n",
    "\n",
    "# dict 예시2 \n",
    "visited = {}\n",
    "visited[(2, 3)] = True\n",
    "\n",
    "if (2, 3) in visited:\n",
    "    print(\"이미 방문한 좌표입니다.\")"
   ]
  },
  {
   "cell_type": "markdown",
   "id": "b2d55409",
   "metadata": {},
   "source": [
    "# [문자열과 숫자]"
   ]
  },
  {
   "cell_type": "markdown",
   "id": "3bf78751",
   "metadata": {},
   "source": [
    "## 1. 숫자 각 자리의 합"
   ]
  },
  {
   "cell_type": "code",
   "execution_count": null,
   "id": "bb3823ff",
   "metadata": {},
   "outputs": [],
   "source": [
    "I = 1592\n",
    "\n",
    "ans = sum(map(int, str(I)))\n",
    "print(ans)  # 17"
   ]
  },
  {
   "cell_type": "markdown",
   "id": "af8db729",
   "metadata": {},
   "source": [
    "## 2. 입력이 문자인지 숫자인지 확인"
   ]
  },
  {
   "cell_type": "code",
   "execution_count": null,
   "id": "3d86a71e",
   "metadata": {},
   "outputs": [],
   "source": [
    "S = input()\n",
    "\n",
    "# 0을 포함한 양의 정수인지\n",
    "print(S.isdigit())\n",
    "# 전체 정수인지\n",
    "print(S.lstrip('-').isdigit())\n",
    "# 실수인지\n",
    "try: float(S)\n",
    "except: pass"
   ]
  },
  {
   "cell_type": "markdown",
   "id": "6a5d22d4",
   "metadata": {},
   "source": [
    "## 3. format"
   ]
  },
  {
   "cell_type": "code",
   "execution_count": null,
   "id": "2dc937f2",
   "metadata": {},
   "outputs": [],
   "source": [
    "format(1234567, \",\")    # 자리수 쉼표: 1,234,567\n",
    "format(1234567, \".4f\")  # 소수점 아래 자리 수: 1234567.0000\n",
    "\n",
    "format(1234567, \"x\")    # 16진수 표기: 12d687\n",
    "format(1234567, \"o\")    # 8진수 표기: 4553207\n",
    "format(1234567, \"e\")    # 지수표기: 1.234567e+06\n",
    "format(1234567, 'b')    # 2진수 표기: 100101101011010000111\n",
    "\n",
    "format(1234567, \"0>10\") # 총 10칸(문자열 기준), 왼쪽을 0으로 채우기: 0001234567\n",
    "\n",
    "# 응용\n",
    "format(1234567.12, \"0>20,.6f\")  # 소수점 6자리까지 표현, 총 20칸, 왼쪽은 0으로 채우고 자리수 쉼표 표시: 00001,234,567.120000\n",
    "\n",
    "# 응용: 시간 자리 2칸 표시\n",
    "hour = format(9, \"0>2\")\n",
    "minute = format(43, \"0>2\")\n",
    "second = format(2, \"0>2\")\n",
    "print(f'{hour}:{minute}:{second}')  # 09:43:02"
   ]
  },
  {
   "cell_type": "markdown",
   "id": "b1529a45",
   "metadata": {},
   "source": [
    "## 4. 진수변환"
   ]
  },
  {
   "cell_type": "code",
   "execution_count": null,
   "id": "6a7af172",
   "metadata": {},
   "outputs": [],
   "source": [
    "# `정수`를 2진수 문자열로 변환\n",
    "n = 13\n",
    "binary_str = bin(n)\n",
    "print(binary_str)       # 0b1101\n",
    "print(binary_str[2:])   # 접두사를 제외하고 숫자의 문자열만 출력\n",
    "\n",
    "# `문자열`을 n진수 정수로 변환: int(str, n)\n",
    "S = '23043'\n",
    "I = int(S,5)    # 5진수 정수로 변환\n",
    "print(I)        # 1648\n",
    "\n",
    "# 10진수를 다른 진수로 변경하는 함수 직접 만들기 (divmod 이용)\n",
    "def radixChange(num,radix):\n",
    "    if num == 0: return '0'\n",
    "    nums = []\n",
    "    while num:\n",
    "        num, digit = divmod(num, radix)     # num, digit: num을 radix로 나눈 몫, 나머지\n",
    "        nums.append(str(digit))\n",
    "    return \"\".join(reversed(nums))"
   ]
  },
  {
   "cell_type": "markdown",
   "id": "553c0a2b",
   "metadata": {},
   "source": [
    "## 5. 실수열 계산: decimal"
   ]
  },
  {
   "cell_type": "code",
   "execution_count": null,
   "id": "1f058139",
   "metadata": {},
   "outputs": [],
   "source": [
    "print(0.1 + 0.2 == 0.3)    # False\n",
    "\n",
    "# 정확한 실수열 계산 위해서는 반드시 decimals 이용\n",
    "from decimal import Decimal\n",
    "a = Decimal('0.1')  #  문자열로 초기화해야 정확한 십진 표현이 보장됨\n",
    "b = Decimal('0.2')\n",
    "c = a + b\n",
    "print(c)  # 0.3 (정확하게 출력됨)"
   ]
  },
  {
   "cell_type": "markdown",
   "id": "6583ea2f",
   "metadata": {},
   "source": [
    "## 6. 아스키 코드이용 (e.g., A에 1을 더하여 B로 만들기)"
   ]
  },
  {
   "cell_type": "code",
   "execution_count": null,
   "id": "784e5774",
   "metadata": {},
   "outputs": [],
   "source": [
    "print(ord('A'))     # 65\n",
    "print(chr(65))      # A\n",
    "\n",
    "print(chr(ord('A') + 1))    # B"
   ]
  },
  {
   "cell_type": "markdown",
   "id": "67491dd1",
   "metadata": {},
   "source": [
    "## 7. maketrans / translate\n",
    "- translate()는 문자열만 처리 가능 → 리스트나 dict에는 못 씀\n",
    "- maketrans()는 치환/삭제용 테이블을 생성하는 함수\n",
    "- 암호화/복호화, 텍스트 전처리, 필터링 문제에 종종 출제됨"
   ]
  },
  {
   "cell_type": "code",
   "execution_count": null,
   "id": "e860f52c",
   "metadata": {},
   "outputs": [],
   "source": [
    "# 기본사용방법\n",
    "table = str.maketrans(\"abc\", \"123\")   # 'a' → '1', 'b' → '2', 'c' → '3'\n",
    "print(\"abcabc\".translate(table))      # 123123\n",
    "\n",
    "# 모든 모음 제거하기\n",
    "s = \"beautiful world\"\n",
    "table = str.maketrans('', '', 'aeiou')  # 세 번째 인자는 삭제할 문자\n",
    "print(s.translate(table))  # btfl wrld\n",
    "\n",
    "\n",
    "# 암호해독\n",
    "# 암호화된 문자열이 있는데, 다음 규칙에 따라 복호화하세요: 'a' → 'z', 'b' → 'y', ..., 'z' → 'a' (즉, 알파벳을 뒤집기)\n",
    "import string\n",
    "\n",
    "original = string.ascii_lowercase            # 'abcdefghijklmnopqrstuvwxyz'\n",
    "reversed_ = original[::-1]                   # 'zyxwvutsrqponmlkjihgfedcba'\n",
    "\n",
    "table = str.maketrans(original, reversed_)\n",
    "\n",
    "s = \"hello\"\n",
    "print(s.translate(table))  # svool"
   ]
  },
  {
   "cell_type": "markdown",
   "id": "c64ff623",
   "metadata": {},
   "source": [
    "# [배열]"
   ]
  },
  {
   "cell_type": "markdown",
   "id": "5e1bebdb",
   "metadata": {},
   "source": [
    "## 1. 배열 정렬"
   ]
  },
  {
   "cell_type": "code",
   "execution_count": null,
   "id": "6e79beb8",
   "metadata": {},
   "outputs": [],
   "source": [
    "# sort(): 원본 배열 변경\n",
    "L = [3, 2, 4, 1]\n",
    "L.sort()\n",
    "print(L)    # [1, 2, 3, 4]\n",
    "\n",
    "L = [3, 2, 4, 1]\n",
    "L.sort(reverse=True)\n",
    "print(L)    # [4, 3, 2, 1]\n",
    "\n",
    "# sorted(): 원본 배열 변경 X\n",
    "L = [3, 2, 4, 1]\n",
    "L = sorted(L)\n",
    "print(L)    # [1, 2, 3, 4]\n",
    "\n",
    "L = [3, 2, 4, 1]\n",
    "L = sorted(L, reverse=True)\n",
    "print(L)    # [4, 3, 2, 1]"
   ]
  },
  {
   "cell_type": "markdown",
   "id": "c07a7c12",
   "metadata": {},
   "source": [
    "## 2. index 요소 제거"
   ]
  },
  {
   "cell_type": "code",
   "execution_count": null,
   "id": "dc4c4b2a",
   "metadata": {},
   "outputs": [],
   "source": [
    "del L[2]    # 두 번째 인덱스 요소 제거"
   ]
  },
  {
   "cell_type": "markdown",
   "id": "2ba81a7b",
   "metadata": {},
   "source": [
    "## 3. 배열 정렬 여부 확인"
   ]
  },
  {
   "cell_type": "code",
   "execution_count": null,
   "id": "d7d7f884",
   "metadata": {},
   "outputs": [],
   "source": [
    "L == L.sorted()"
   ]
  },
  {
   "cell_type": "markdown",
   "id": "3f936d91",
   "metadata": {},
   "source": [
    "## 4. 배열 뒤집기"
   ]
  },
  {
   "cell_type": "code",
   "execution_count": null,
   "id": "5866abe2",
   "metadata": {},
   "outputs": [],
   "source": [
    "L = L[::-1]"
   ]
  },
  {
   "cell_type": "markdown",
   "id": "d46bebf0",
   "metadata": {},
   "source": [
    "## 5. 배열 -> 문자열 변환: 구분자.join(리스트)"
   ]
  },
  {
   "cell_type": "code",
   "execution_count": null,
   "id": "6cdf99f3",
   "metadata": {},
   "outputs": [],
   "source": [
    "L = [5, 3, 1, 7]\n",
    "print(\" \".join(L))  # '5 3 1 7'\n",
    "print(\",\".join(L))  # '5,3,1,7'"
   ]
  },
  {
   "cell_type": "markdown",
   "id": "2b84769c",
   "metadata": {},
   "source": [
    "## 6. 배열에서 특정한 원소들만 제거"
   ]
  },
  {
   "cell_type": "code",
   "execution_count": null,
   "id": "ee21d65e",
   "metadata": {},
   "outputs": [],
   "source": [
    "L = [1, 3, 5, 1, 4, 5, 3, 8, 9, 7]\n",
    "remove_set = {3, 5}\n",
    "\n",
    "L = [n for n in L if n not in remove_set]\n",
    "print(L)\n",
    "# [1, 1, 4, 8, 9, 7]"
   ]
  },
  {
   "cell_type": "markdown",
   "id": "0fe7f0e0",
   "metadata": {},
   "source": [
    "## 7. 배열 원소의 합\n",
    "- 내가 무슨 짓을 해도 sum()보다 빠르기 쉽지 않다."
   ]
  },
  {
   "cell_type": "code",
   "execution_count": null,
   "id": "b947127f",
   "metadata": {},
   "outputs": [],
   "source": [
    "L = [1, 2, 3]\n",
    "print(sum(L))   # 6"
   ]
  },
  {
   "cell_type": "markdown",
   "id": "c9003754",
   "metadata": {},
   "source": [
    "## 8. zip"
   ]
  },
  {
   "cell_type": "code",
   "execution_count": null,
   "id": "68f1f610",
   "metadata": {},
   "outputs": [],
   "source": [
    "A = [1, 2, 3, 4]\n",
    "B = ['a', 'b', 'c', 'd']\n",
    "print(list(zip(A,B)))   # [(1, 'a'), (2, 'b'), (3, 'c'), (4, 'd')]"
   ]
  },
  {
   "cell_type": "markdown",
   "id": "615b84ba",
   "metadata": {},
   "source": [
    "## 9. 이중 리스트 정렬"
   ]
  },
  {
   "cell_type": "code",
   "execution_count": null,
   "id": "728c2962",
   "metadata": {},
   "outputs": [],
   "source": [
    "L = [[1, 5], [9, 4], [5, 8], [-2, 7], [1, -1], [9, -4]]\n",
    "\n",
    "sorted(L, key=lambda x:(x[0], -x[1]))   # 각 원소의 첫 번째 값에 대하여 오름차순 정렬 후 두 번째 값에 대하여 내림차순 정렬\n",
    "# [[-2, 7], [1, 5], [1, -1], [5, 8], [9, 4], [9, -4]]"
   ]
  },
  {
   "cell_type": "markdown",
   "id": "77f44a8d",
   "metadata": {},
   "source": [
    "## 10. 리스트 다중 복사"
   ]
  },
  {
   "cell_type": "code",
   "execution_count": null,
   "id": "2c31580e",
   "metadata": {},
   "outputs": [],
   "source": [
    "L = [[0] * 3 for _ in range(5)]     # 각 리스트가 독립적\n",
    "# [[0] * 3] * 5 를 하면 [0, 0, 0] 리스트가 세 번 반복돼서 겉으로 보기엔 같으나 이들은 모두 같은 객체로 인식되어 원하는 형태가 아니다.\n",
    "\n",
    "# 증가하는 숫자열을 만들고 싶을 때\n",
    "row = 3\n",
    "column = 5\n",
    "arr = [[i*column +j for j in range(column)] for i in range(row)]     # (행, 렬)\n",
    "print(arr)\n",
    "\n",
    "# [[0, 1, 2, 3, 4], \n",
    "#  [5, 6, 7, 8, 9], \n",
    "#  [10, 11, 12, 13, 14]]"
   ]
  },
  {
   "cell_type": "markdown",
   "id": "efac83ec",
   "metadata": {},
   "source": [
    "# [딕셔너리]"
   ]
  },
  {
   "cell_type": "markdown",
   "id": "7204f071",
   "metadata": {},
   "source": [
    "## 1. key로 value 조회: get"
   ]
  },
  {
   "cell_type": "code",
   "execution_count": null,
   "id": "f531dd0e",
   "metadata": {},
   "outputs": [],
   "source": [
    "D = dict({5:1, 3:3, 4:2})\n",
    "\n",
    "print(D.get(5))     # 1\n",
    "print(D.get(999, 0))    # 0 -- 찾으려는 값이 없을 때 2번째 값을 출력"
   ]
  },
  {
   "cell_type": "markdown",
   "id": "5e03c4cf",
   "metadata": {},
   "source": [
    "## 2. key:value 조회"
   ]
  },
  {
   "cell_type": "code",
   "execution_count": null,
   "id": "3535233d",
   "metadata": {},
   "outputs": [],
   "source": [
    "D = dict({5:1, 3:3, 4:2})\n",
    "\n",
    "print(D)\n",
    "# {5: 1, 3: 3, 4: 2} -- 딕셔너리 그대로 조회된다.\n",
    "\n",
    "print(D.items())\n",
    "# dict_items([(5, 1), (3, 3), (4, 2)]) -- 튜플로 조회된다.\n",
    "\n",
    "print(D.keys())\n",
    "# dict_keys([5, 3, 4]) -- key만 조회된다.\n",
    "\n",
    "print(D.values())\n",
    "# dict_values([1, 3, 2]) -- value만 조회된다."
   ]
  },
  {
   "cell_type": "markdown",
   "id": "456c6c65",
   "metadata": {},
   "source": [
    "## 3. 정렬"
   ]
  },
  {
   "cell_type": "code",
   "execution_count": null,
   "id": "e12c31e6",
   "metadata": {},
   "outputs": [],
   "source": [
    "D = dict({5:1, 3:3, 4:2})\n",
    "\n",
    "print(sorted(D))\n",
    "# [3, 4, 5] -- key들이 정렬된 list가 조회된다.\n",
    "\n",
    "print(sorted(D.items()))\n",
    "# [(3, 3), (4, 2), (5, 1)] -- (key, value) 튜플이 정렬된 list가 조회된다.\n",
    "\n",
    "print(sorted(D.items(), key=lambda x:x[1]))\n",
    "# [(5, 1), (4, 2), (3, 3)] -- value 기준으로 튜플이 정렬된 list가 조회된다."
   ]
  },
  {
   "cell_type": "markdown",
   "id": "760c1bef",
   "metadata": {},
   "source": [
    "## 4. 최소값, 최대값\n",
    "참고) 정렬도 하고 최소, 최대를 찾아야할 땐 정렬한 뒤 D[0], D[-1] 구하는 게 낫다."
   ]
  },
  {
   "cell_type": "code",
   "execution_count": null,
   "id": "bc13830d",
   "metadata": {},
   "outputs": [],
   "source": [
    "D = dict({5:1, 3:3, 4:2})\n",
    "\n",
    "print(min(D.keys()))    # 3\n",
    "print(max(D.keys()))    # 5\n",
    "\n",
    "print(min(D.values()))  # 1\n",
    "print(max(D.values()))  # 3\n",
    "\n",
    "# key나 value로 구해서 튜플로 반환 받고 싶을 때는 items()를 넘기고, 비교 key를 지정하자.\n",
    "print(min(D.items(), key=lambda x:x[1]))    # (5, 1)"
   ]
  },
  {
   "cell_type": "markdown",
   "id": "3ae79f81",
   "metadata": {},
   "source": [
    "## 5. index로 value 조회\n",
    "딕셔너리 values()를 list로 캐스팅"
   ]
  },
  {
   "cell_type": "code",
   "execution_count": null,
   "id": "63a8f932",
   "metadata": {},
   "outputs": [],
   "source": [
    "D = dict({5:1, 3:3, 4:2})\n",
    "print(list(D.values())[0])  # 1"
   ]
  },
  {
   "cell_type": "markdown",
   "id": "0a91c94a",
   "metadata": {},
   "source": [
    "## 5. 순서 유지하며 중복 제거: `dict.fromkeys(리스트)`\n",
    "- Python 3.7부터는 `dict`가 입력 순서를 기억하기 때문에 리스트의 원래 순서도 유지됨"
   ]
  },
  {
   "cell_type": "code",
   "execution_count": null,
   "id": "0a8a500f",
   "metadata": {},
   "outputs": [],
   "source": [
    "L = [1,2,2,3,4,4,5]\n",
    "unique_vals = list(dict.fromkeys(L))\n",
    "print(unique_vals)   # [1, 2, 3, 4, 5]\n",
    "\n",
    "S = \"banana\"\n",
    "unique_chars = ''.join(dict.fromkeys(S))\n",
    "print(unique_chars) # ban"
   ]
  },
  {
   "cell_type": "markdown",
   "id": "50d4ffc6",
   "metadata": {},
   "source": [
    "# [집합]"
   ]
  },
  {
   "cell_type": "markdown",
   "id": "6f3d2671",
   "metadata": {},
   "source": [
    "## 1. 집합 연산"
   ]
  },
  {
   "cell_type": "code",
   "execution_count": null,
   "id": "98e2ee2f",
   "metadata": {},
   "outputs": [],
   "source": [
    "A = set([1, 2, 3, 4, 5, 6])\n",
    "B = set([2, 3, 5, 7, 9])\n",
    "\n",
    "print(A.intersection(B))    # 교집합: {2, 3, 5}\n",
    "print(A.difference(B))      # 차집합: {1, 4, 6}\n",
    "print(A.union(B))           # 합집합: {1, 2, 3, 4, 5, 6, 7, 9}\n",
    "\n",
    "# 축약어\n",
    "print(A&B)  # 교집합: {2, 3, 5}\n",
    "print(A-B)  # 차집합: {1, 4, 6}\n",
    "print(A|B)  # 합집합: {1, 2, 3, 4, 5, 6, 7, 9}"
   ]
  },
  {
   "cell_type": "markdown",
   "id": "b5404114",
   "metadata": {},
   "source": [
    "## 2. 요소 연산"
   ]
  },
  {
   "cell_type": "code",
   "execution_count": null,
   "id": "afc758b7",
   "metadata": {},
   "outputs": [],
   "source": [
    "S = set([])\n",
    "\n",
    "S.add(1)\n",
    "print(S)    # {1}\n",
    "\n",
    "S.update([2,3])\n",
    "print(S)    # {1, 2, 3} "
   ]
  },
  {
   "cell_type": "markdown",
   "id": "5eb45dd9",
   "metadata": {},
   "source": [
    "# [덱]\n",
    "- 왼쪽과 오른쪽 모두에서 삽입과 삭제할 수 있는 자료구조다.\n",
    "- 스택과 큐의 기능을 모두 가지고 있는 자료구조\n",
    "- Python에서는 큐(queue)의 기능이 필요할 때 간단히 덱(deque)을 사용한다.\n",
    "- 배열, queue 말고 deque 쓰자.\n",
    "- 데이터의 삭제와 삽입 모두에서 시간복잡도가 $O(1)$"
   ]
  },
  {
   "cell_type": "code",
   "execution_count": null,
   "id": "ae7dd356",
   "metadata": {},
   "outputs": [],
   "source": [
    "from collections import deque\n",
    "\n",
    "d = deque()                 # deque 인스턴스 생성\n",
    "\n",
    "arr = [5, 6, 7, 8]\n",
    "for x in arr:\n",
    "    d.append(x)             # 우측에서 데이터 삽입\n",
    "    print(d)\n",
    "\n",
    "# deque([5])\n",
    "# deque([5, 6])\n",
    "# deque([5, 6, 7])\n",
    "# deque([5, 6, 7, 8])\n",
    "\n",
    "arr = [4, 3, 2, 1]\n",
    "for x in arr:\n",
    "    d.appendleft(x)         # 좌측에서 데이터 삽입\n",
    "    print(d)\n",
    "\n",
    "# deque([4, 5, 6, 7, 8])\n",
    "# deque([3, 4, 5, 6, 7, 8])\n",
    "# deque([2, 3, 4, 5, 6, 7, 8])\n",
    "# deque([1, 2, 3, 4, 5, 6, 7, 8])\n",
    "\n",
    "print()\n",
    "print(d)\n",
    "\n",
    "# deque([1, 2, 3, 4, 5, 6, 7, 8])\n",
    "\n",
    "while d:\n",
    "    print(d.popleft())      # 좌측에서 데이터 삭제\n",
    "\n",
    "# 1\n",
    "# 2\n",
    "# 3\n",
    "# 4\n",
    "# 5\n",
    "# 6\n",
    "# 7\n",
    "# 8"
   ]
  },
  {
   "cell_type": "code",
   "execution_count": null,
   "id": "810fc942",
   "metadata": {},
   "outputs": [],
   "source": [
    "arr = [1, 2, 3, 4, 5, 6, 7, 8]\n",
    "for x in arr:\n",
    "    d.appendleft(x)         # 좌측에서 데이터 삽입\n",
    "    print(d)\n",
    "\n",
    "# deque([1])\n",
    "# deque([2, 1])\n",
    "# deque([3, 2, 1])\n",
    "# deque([4, 3, 2, 1])\n",
    "# deque([5, 4, 3, 2, 1])\n",
    "# deque([6, 5, 4, 3, 2, 1])\n",
    "# deque([7, 6, 5, 4, 3, 2, 1])\n",
    "# deque([8, 7, 6, 5, 4, 3, 2, 1])\n",
    "\n",
    "print()\n",
    "\n",
    "while True:\n",
    "    print(d.pop())          # 우측에서 데이터 하나 삭제\n",
    "    if not d:\n",
    "        break\n",
    "    print(d.popleft())      # 좌측에서 데이터 하나 삭제\n",
    "    if not d:\n",
    "        break\n",
    "\n",
    "# 1\n",
    "# 8\n",
    "# 2\n",
    "# 7\n",
    "# 3\n",
    "# 6\n",
    "# 4\n",
    "# 5"
   ]
  },
  {
   "cell_type": "markdown",
   "id": "e40f5005",
   "metadata": {},
   "source": [
    "# [itertools]"
   ]
  },
  {
   "cell_type": "markdown",
   "id": "44d72ed0",
   "metadata": {},
   "source": [
    "## 1. 누적합: accumulate\n",
    "- 값이 누적되어 반환된다.\n",
    "- for문 만으로도 값을 누적한 리스트를 뽑을 수 있지만 속도면에서 큰 차이가 난다."
   ]
  },
  {
   "cell_type": "code",
   "execution_count": null,
   "id": "b0181a29",
   "metadata": {},
   "outputs": [],
   "source": [
    "from itertools import accumulate\n",
    "\n",
    "a = [1, 2, 3, 4, 5, 6, 7, 8, 9, 10]\n",
    "\n",
    "b = list(accumulate(a))\n",
    "print(b)    # [1, 3, 6, 10, 15, 21, 28, 36, 45, 55]\n",
    "\n",
    "c = list(accumulate(a, initial=0))\n",
    "print(c)    # [0, 1, 3, 6, 10, 15, 21, 28, 36, 45, 55]\n",
    "\n",
    "d = list(accumulate(a, initial=5))\n",
    "print(d)    # [5, 6, 8, 11, 15, 20, 26, 33, 41, 50, 60]"
   ]
  },
  {
   "cell_type": "markdown",
   "id": "fd29e64d",
   "metadata": {},
   "source": [
    "## 2. 조합: combinations\n",
    "- 순서 상관 없이 n개 중에서 r개를 뽑을 때 경우의 수"
   ]
  },
  {
   "cell_type": "code",
   "execution_count": null,
   "id": "471b178f",
   "metadata": {},
   "outputs": [],
   "source": [
    "from itertools import combinations\n",
    "\n",
    "A = [1, 2, 3]\n",
    "print(list(combinations(A, 2)))\n",
    "# [(1, 2), (1, 3), (2, 3)]"
   ]
  },
  {
   "cell_type": "markdown",
   "id": "46312690",
   "metadata": {},
   "source": [
    "## 3. 중복조합: Combinations with replacement\n",
    "- 순서 상관 없이 n개 중에서 중복을 허용하여 r개를 뽑을 때 경우의 수"
   ]
  },
  {
   "cell_type": "code",
   "execution_count": null,
   "id": "d44667e9",
   "metadata": {},
   "outputs": [],
   "source": [
    "from itertools import combinations_with_replacement\n",
    "\n",
    "A = [1, 2, 3]\n",
    "print(list(combinations_with_replacement(A, 2)))\n",
    "# [(1, 1), (1, 2), (1, 3), (2, 2), (2, 3), (3, 3)]"
   ]
  },
  {
   "cell_type": "markdown",
   "id": "098abbd5",
   "metadata": {},
   "source": [
    "## 4. 순열: Permutations\n",
    "- 순서 상관 있게 n개 중에서 r개를 뽑을 때 경우의 수"
   ]
  },
  {
   "cell_type": "code",
   "execution_count": null,
   "id": "9db24175",
   "metadata": {},
   "outputs": [],
   "source": [
    "from itertools import permutations\n",
    "\n",
    "A = [1, 2, 3]\n",
    "print(list(permutations(A, 2)))\n",
    "# [(1, 2), (1, 3), (2, 1), (2, 3), (3, 1), (3, 2)]"
   ]
  },
  {
   "cell_type": "markdown",
   "id": "0ddcb57b",
   "metadata": {},
   "source": [
    "## 5. 중복순열: Product\n",
    "- 순서 상관 있게 n개 중에서 중복을 허용하여 r개를 뽑을 때 경우의 수"
   ]
  },
  {
   "cell_type": "code",
   "execution_count": null,
   "id": "79aac7f0",
   "metadata": {},
   "outputs": [],
   "source": [
    "from itertools import product\n",
    "\n",
    "A = [1, 2, 3]\n",
    "print(list(product(A, repeat = 2)))\n",
    "# [(1, 1), (1, 2), (1, 3), (2, 1), (2, 2), (2, 3), (3, 1), (3, 2), (3, 3)]"
   ]
  },
  {
   "cell_type": "markdown",
   "id": "6d7a7b5f",
   "metadata": {},
   "source": [
    "# [collections.Counter]"
   ]
  },
  {
   "cell_type": "code",
   "execution_count": null,
   "id": "611a5c90",
   "metadata": {},
   "outputs": [],
   "source": [
    "from collections import Counter\n",
    "\n",
    "L1 = ['a', 'b', 'a', 'c', 'a', 'b']\n",
    "count = Counter(L1)\n",
    "print(count)                    # Counter({'a': 3, 'b': 2, 'c': 1})\n",
    "\n",
    "# 상위 n개 요소 반환: .most_common(n)\n",
    "print(count.most_common(2))     # [('a', 3), ('b', 2)]\n",
    "\n",
    "# 원소들을 반복자 형태로 반환: .elements()\n",
    "print(list(count.elements()))   # ['a', 'a', 'a', 'b', 'b', 'c']\n",
    "\n",
    "# 기존 Counter에 값 추가: update(iterable)\n",
    "count.update(['a', 'd'])\n",
    "print(count)                    # Counter({'a': 4, 'b': 2, 'c': 1, 'd': 1})\n",
    "\n",
    "# 기존 Counter에서 값 제거: subtract(iterable)\n",
    "count.subtract(['a'])           # Counter({'a': 3, 'b': 2, 'c': 1, 'd': 1})\n",
    "print(count)\n",
    "\n",
    "# 산술연산 +, -, &, | 가능\n",
    "L2 = ['x','y','z','a','b','a','c']\n",
    "cnt = Counter(L2)\n",
    "print(cnt)                      # Counter({'a': 2, 'x': 1, 'y': 1, 'z': 1, 'b': 1, 'c': 1})\n",
    "print(count + cnt)              # Counter({'a': 5, 'b': 3, 'c': 2, 'd': 1, 'x': 1, 'y': 1, 'z': 1})\n",
    "print(count - cnt)              # Counter({'a': 1, 'b': 1, 'd': 1})\n",
    "print(count & cnt)              # Counter({'a': 2, 'b': 1, 'c': 1})\n",
    "print(count | cnt)              # Counter({'a': 3, 'b': 2, 'c': 1, 'd': 1, 'x': 1, 'y': 1, 'z': 1})\n",
    "\n",
    "# 문자열에도 사용 가능\n",
    "s = \"hello\"\n",
    "print(Counter(s))               # Counter({'l': 2, 'h': 1, 'e': 1, 'o': 1})\n",
    "\n",
    "# 딕셔너리처럼 사용 가능\n",
    "c = Counter(['a', 'b', 'a'])\n",
    "print(c['a'])  # 2\n",
    "print(c['c'])  # 0 (KeyError 안 나고 0 나옴)"
   ]
  },
  {
   "cell_type": "code",
   "execution_count": null,
   "id": "79181e1b",
   "metadata": {},
   "outputs": [],
   "source": [
    "# 사용예시\n",
    "\n",
    "# 애너그램 판단\n",
    "def is_anagram(s1, s2):\n",
    "    return Counter(s1) == Counter(s2)\n",
    "\n",
    "print(is_anagram(\"listen\", \"silent\"))  # True\n",
    "\n",
    "# 두 리스트 차이 구하기\n",
    "a = Counter(['a', 'b', 'c'])\n",
    "b = Counter(['a', 'b'])\n",
    "diff = a - b\n",
    "print(diff)  # Counter({'c': 1})"
   ]
  },
  {
   "cell_type": "markdown",
   "id": "a2e15564",
   "metadata": {},
   "source": [
    "# [math]"
   ]
  },
  {
   "cell_type": "markdown",
   "id": "c61bea2a",
   "metadata": {},
   "source": [
    "```python\n",
    "import math\n",
    "```\n",
    "\n",
    "<div align=\"left\" style=\"font-family: Consolas;\">\n",
    "\n",
    "| 함수                   | 설명                  | 예시                   |\n",
    "| :-------------------- | :------------------- | :-------------------- |\n",
    "| `math.sqrt(x)`       | 제곱근                 | `sqrt(9) → 3.0`      |\n",
    "| `math.isqrt(x)`      | 정수 제곱근 (소수점 X)      | `isqrt(10) → 3`      |\n",
    "| `math.floor(x)`      | 내림                  | `floor(3.9) → 3`     |\n",
    "| `math.ceil(x)`       | 올림                  | `ceil(3.1) → 4`      |\n",
    "| `math.factorial(x)`  | 팩토리얼                | `factorial(5) → 120` |\n",
    "| `math.gcd(a, b)`     | 최대공약수               | `gcd(12, 18) → 6`    |\n",
    "| `math.lcm(a, b)`     | 최소공배수 (Python 3.9+) | `lcm(12, 18) → 36`   |\n",
    "| `math.log(x, base)`  | 로그 (base는 생략 가능, 디폴트는 e)    | `log(8, 2) → 3.0`    |\n",
    "| `math.pow(a, b)`     | a^b (실수형 결과)        | `pow(2, 3) → 8.0`    |\n",
    "| `math.pi` / `math.e` | 상수 값                | 원주율 `pi`, 자연상수 `e`   |\n",
    "\n",
    "</div>"
   ]
  },
  {
   "cell_type": "markdown",
   "id": "37b806a2",
   "metadata": {},
   "source": [
    "# [re]"
   ]
  },
  {
   "cell_type": "markdown",
   "id": "2f21cbdb",
   "metadata": {},
   "source": [
    "```python\n",
    "import re\n",
    "```\n",
    "\n",
    "- **정규표현식 메서드**\n",
    "\n",
    "<div align=\"left\" style=\"font-family: Consolas;\">\n",
    "\n",
    "| 메서드                | 설명                                    | 사용 예시                                                | 반환값                  |\n",
    "| ------------------ | ------------------------------------- | ---------------------------------------------------- | -------------------- |\n",
    "| `re.match(p, s)`   | 문자열 **시작**이 `p`에 일치하면 match 객체 반환     | `re.match(r'\\d+', '123abc')`                         | `<match>`            |\n",
    "| `re.search(p, s)`  | 문자열 **어디든** `p`와 일치하는 첫 부분 반환         | `re.search(r'\\d+', 'abc123')`                        | `<match>`            |\n",
    "| `re.findall(p, s)` | `p`에 **일치하는 모든 문자열**을 리스트로 반환         | `re.findall(r'\\d+', 'a1b22c333')`                    | `['1', '22', '333']` |\n",
    "| `re.sub(p, r, s)`  | `p`에 일치하는 부분을 `r`로 **치환**             | `re.sub(r'\\d+', '*', 'a1b2')`                        | `'a*b*'`             |\n",
    "| `re.split(p, s)`   | `p`에 따라 문자열을 **분리**                   | `re.split(r'[,:]', 'a,b:c')`                         | `['a', 'b', 'c']`    |\n",
    "| `re.compile(p)`    | 정규표현식을 **패턴 객체로 컴파일** (여러 번 사용할 때 빠름) | `pat = re.compile(r'\\d+')`<br>`pat.findall('a1b22')` | `['1', '22']`        |\n",
    "\n",
    "</div>\n",
    "\n",
    "<br>\n",
    "\n",
    "- **Python 정규표현식 패턴 요약표**\n",
    "\n",
    "<div align=\"left\" style=\"font-family: Consolas;\">\n",
    "\n",
    "| 패턴        | 의미                      | 예시 문자열          | `re.findall()` 결과 예시                                      | \n",
    "| --------- | ----------------------- | --------------- | --------------------------------------------------------- | \n",
    "| `.`       | 임의의 **한 문자**            | `'abc'`         | `re.findall('.', 'abc')` → `['a', 'b', 'c']`              | \n",
    "| `^`       | 문자열 **시작**              | `'abc'`         | `re.findall('^a', 'abc')` → `['a']`                       | \n",
    "| `$`       | 문자열 **끝**               | `'abc'`         | `re.findall('c$', 'abc')` → `['c']`                       |\n",
    "| `*`       | 앞 문자 **0개 이상 반복**       | `'aaab'`        | `re.findall('a*', 'aaab')` → `['aaa', '', '']`            | \n",
    "| `+`       | 앞 문자 **1개 이상 반복**       | `'aaab'`        | `re.findall('a+', 'aaab')` → `['aaa']`                    |\n",
    "| `?`       | 앞 문자 **0개 또는 1개**       | `'ab'`          | `re.findall('a?', 'ab')` → `['a', '']`                    |\n",
    "| `{n}`     | 앞 문자 **n개 반복**          | `'aaa'`         | `re.findall('a{2}', 'aaa')` → `['aa']`                    |\n",
    "| `{n,}`    | 앞 문자 **n개 이상 반복**       | `'aaaa'`        | `re.findall('a{2,}', 'aaaa')` → `['aaaa']`                | \n",
    "| `{n,m}`   | 앞 문자 **n\\~m개 반복**       | `'aaa'`         | `re.findall('a{2,3}', 'aaa')` → `['aaa']`                 |\n",
    "| `[abc]`   | **a 또는 b 또는 c**         | `'abc'`         | `re.findall('[ac]', 'abc')` → `['a', 'c']`                |\n",
    "| `[^abc]`  | **a, b, c 제외한 문자**      | `'abdxyz'`      | `re.findall('[^abc]', 'abdxyz')` → `['d', 'x', 'y', 'z']` |\n",
    "| `[a-z]`   | **소문자 범위**              | `'abcXYZ'`      | `re.findall('[a-z]', 'abcXYZ')` → `['a', 'b', 'c']`       |\n",
    "| `[A-Z]`   | **대문자 범위**              | `'abcXYZ'`      | `re.findall('[A-Z]', 'abcXYZ')` → `['X', 'Y', 'Z']`       |\n",
    "| `[0-9]`   | **숫자 범위**               | `'a1b2c3'`      | `re.findall('[0-9]', 'a1b2c3')` → `['1', '2', '3']`       |\n",
    "| `\\d`      | **숫자 (0\\~9)**           | `'a1b2c3'`      | `re.findall('\\d', 'a1b2c3')` → `['1', '2', '3']`          |\n",
    "| `\\D`      | **숫자가 아닌 문자**           | `'a1!'`         | `re.findall('\\D', 'a1!')` → `['a', '!']`                  |\n",
    "| `\\w`      | **문자 + 숫자 + 밑줄**        | `'a1_'`         | `re.findall('\\w', 'a1_')` → `['a', '1', '_']`             |      \n",
    "| `\\W`      | **`\\w` 아닌 문자 (특수문자 등)**   | `'a1@#'`        | `re.findall('\\W', 'a1@#')` → `['@', '#']`                 |    \n",
    "| `\\s`      | **공백 문자 (스페이스, 탭 등)**   | `'a b\\tc'`      | `re.findall('\\s', 'a b\\tc')` → `[' ', '\\t']`              | \n",
    "| `\\S`      | **공백이 아닌 문자**           | `' a\\nb'`       | `re.findall('\\S', ' a\\nb')` → `['a', 'b']`                |\n",
    "| `\\|`      | **OR (A 또는 B)**             | `'abc'`    | `re.findall('a \\| c', 'abc')`→`['a', 'c']` |\n",
    "| `(ab)`    | **그룹으로 묶기**             | `'abcab'`       | `re.findall('(ab)', 'abcab')` → `['ab', 'ab']`            |\n",
    "| `(?:...)` | **비참조 그룹** (묶지만 캡처 안 함) | `'abcab'`       | `re.findall('(?:ab)', 'abcab')` → `['ab', 'ab']`          |\n",
    "| `(?=...)` | **뒤가 특정 조건일 때 매칭**      | `'abc'`         | `re.findall('a(?=b)', 'abc')` → `['a']`                   |\n",
    "| `(?!...)` | **뒤가 특정 조건이 아닐 때 매칭**   | `'adc'`         | `re.findall('a(?!b)', 'adc')` → `['a']`                   |\n",
    "| `(?<=...)` | **앞이 특정 조건일 때 매칭**      | `'abc'`         | `re.findall('(?<=b)c', 'abc')` → `['c']`                   |\n",
    "| `(?<!...)` | **앞이 특정 조건이 아닐 때 매칭**   | `'adc'`         | `re.findall('(?<!b)c', 'adc')` → `['c']`                   |\n",
    "\n",
    "</div>\n",
    "\n",
    "<br>\n",
    "\n",
    "- **정규표현식 패턴 활용 예시**\n",
    "\n",
    "<div align=\"left\" style=\"font-family: Consolas;\">\n",
    "\n",
    "| 패턴             | 활용 목적                | 예시 문자열           | 활용 예 (`re`)                                           |\n",
    "| -------------- | -------------------- | ---------------- | ----------------------------------------------------- |\n",
    "| `\\d+`          | **숫자 추출**            | `\"a12b345\"`      | `re.findall(r'\\d+', s)` → `['12', '345']`             |\n",
    "| `[a-zA-Z]+`    | **영문자 추출**           | `\"abc123DEF\"`    | `re.findall(r'[a-zA-Z]+', s)` → `['abc', 'DEF']`      |\n",
    "| `[^a-zA-Z0-9]` | **특수 문자 제거**         | `\"abc#123!\"`     | `re.sub(r'[^a-zA-Z0-9]', '', s)` → `'abc123'`         |\n",
    "| `^\\d{4}`       | **4자리로 시작하는 문자열 확인** | `\"2024year\"`     | `re.match(r'^\\d{4}', s)` → `<match>`                  |\n",
    "| `@\\w+`         | **이메일 아이디 추출**       | `\"hi@naver.com\"` | `re.findall(r'@\\w+', s)` → `['@naver']`               |\n",
    "| `\\s+`          | **공백 제거 또는 분리**      | `\"a   b c\"`      | `re.split(r'\\s+', s)` → `['a', 'b', 'c']`             |\n",
    "| `[0-9]{2,4}`   | **2\\~4자리 숫자 추출**     | `\"199 2023 9\"`   | `re.findall(r'\\d{2,4}', s)` → `['199', '2023']`       |\n",
    "| `[A-Z][a-z]+`  | **이름처럼 대소문자 조합 추출**  | `\"James Bond\"`   | `re.findall(r'[A-Z][a-z]+', s)` → `['James', 'Bond']` |\n",
    "| `\\w+@\\w+\\.\\w+` | **이메일 주소 추출**        | `\"a@b.com\"`      | `re.findall(r'\\w+@\\w+\\.\\w+', s)` → `['a@b.com']`      |\n",
    "| `.+\\.txt$`     | **.txt 파일명 찾기**      | `\"file.txt\"`     | `re.match(r'.+\\.txt$', s)` → `<match>`                |\n",
    "\n",
    "</div>\n",
    "\n",
    "<br>\n",
    "\n",
    "- **코딩테스트 유형**\n",
    "\n",
    "<div align=\"left\" style=\"font-family: Consolas;\">\n",
    "\n",
    "| 유형          | 활용 패턴 예시                         | 사용 목적                    |\n",
    "| ----------- | -------------------------------- | ------------------------ |\n",
    "| 숫자만 더하기 문제  | `re.findall(r'\\d+', s)`          | 문자열 속 숫자 추출 후 합산         |\n",
    "| 문자열 정렬 문제   | `re.findall(r'[a-zA-Z]+', s)`    | 알파벳만 뽑아서 정렬              |\n",
    "| 전처리 문제      | `re.sub(r'[^0-9a-z]', '', s)`    | 숫자/소문자 외 모두 제거           |\n",
    "| 이메일 추출      | `re.findall(r'\\w+@\\w+\\.\\w+', s)` | 이메일 패턴 찾기                |\n",
    "| 공백 기준 split | `re.split(r'\\s+', s)`            | 여러 공백을 기준으로 나누기          |\n",
    "| 유효성 검사      | `re.match(r'^\\d{3}-\\d{4}$', s)`  | 전화번호 형식 검사 (예: 123-4567) |\n",
    "\n",
    "</div>"
   ]
  },
  {
   "cell_type": "markdown",
   "id": "9bad9cdd",
   "metadata": {},
   "source": [
    "# [2진 탐색]"
   ]
  },
  {
   "cell_type": "markdown",
   "id": "9070db88",
   "metadata": {},
   "source": [
    "## 1. 직접 구현"
   ]
  },
  {
   "cell_type": "code",
   "execution_count": null,
   "id": "b136d081",
   "metadata": {},
   "outputs": [],
   "source": [
    "def binary_search(arr, target):\n",
    "    left, right = 0, len(arr) - 1\n",
    "    \n",
    "    arr = sorted(arr)   # 반드시 오름차순 정렬이 되어있어야 함\n",
    "    while left <= right:\n",
    "        mid = (left + right) // 2\n",
    "        if arr[mid] == target:\n",
    "            return mid  # 찾은 위치(index) 반환\n",
    "        elif arr[mid] < target:\n",
    "            left = mid + 1\n",
    "        else:\n",
    "            right = mid - 1\n",
    "            \n",
    "    return -1  # 못 찾은 경우\n",
    "\n",
    "\n",
    "res = binary_search([1,3,5,7,9,11,13], 9)\n",
    "# left = 0, right = 6 -> mid = 3 : arr[3] = 7 < target  ----> 이제부터 중앙보다 오른쪽부분만 탐색하기 시작\n",
    "# left = 4, right = 6 -> mid = 5 : arr[5] = 11 > target -----> 이제부터 남은 부분 중에서 남은 부분의 중앙보다 왼쪽부분만 탐색하기 시작\n",
    "# left = 4, right = 5 -> mid = 4 : arr[4] = 7 == target\n",
    "print(res)  # 4"
   ]
  },
  {
   "cell_type": "markdown",
   "id": "cc2e2b64",
   "metadata": {},
   "source": [
    "## 2. bisect"
   ]
  },
  {
   "cell_type": "code",
   "execution_count": null,
   "id": "b8fd131e",
   "metadata": {},
   "outputs": [],
   "source": [
    "import bisect\n",
    "\n",
    "arr = [1, 7, 5, 3, 9]\n",
    "idx = bisect.bisect_left(sorted(arr), 5)  # 값이 5인 위치 찾기\n",
    "print(idx)  # 2"
   ]
  },
  {
   "cell_type": "code",
   "execution_count": null,
   "id": "4353f5d4",
   "metadata": {},
   "outputs": [],
   "source": [
    "arr = []\n",
    "for x in [5, 1, 3, 2, 4]:\n",
    "    bisect.insort_left(arr, x)  # 오름차순 정렬로 정렬하며 x를 arr에 끼워넣음. 같은 값이 있으면 같은 값 왼쪽에 끼워넣음\n",
    "                                # 오른쪽은 insort_right\n",
    "    print(arr)\n",
    "\n",
    "# [5]\n",
    "# [1, 5]\n",
    "# [1, 3, 5]\n",
    "# [1, 2, 3, 5]\n",
    "# [1, 2, 3, 4, 5]"
   ]
  },
  {
   "cell_type": "markdown",
   "id": "7e5b111b",
   "metadata": {},
   "source": [
    "# [힙]\n",
    "- heapq: 최소 힙(min heap) 기반 우선순위 큐 모듈\n",
    "- $O(\\log{N})$ 시간복잡도로 삽입/삭제\n",
    "- 최대 힙은 직접 구현 필요 → 음수 부호$(-)$ 이용\n",
    "\n",
    "<br>\n",
    "\n",
    "| 함수                              | 설명                          |\n",
    "| ------------------------------- | --------------------------- |\n",
    "| `heapq.heapify(arr)`            | 배열을 **제자리에서 최소 힙**으로 변환     |\n",
    "| `heapq.heappush(heap, item)`    | 힙에 item 추가                  |\n",
    "| `heapq.heappop(heap)`           | 힙에서 **가장 작은 값** 제거 및 반환     |\n",
    "| `heapq.heappushpop(heap, item)` | item 추가 후 가장 작은 값 제거 → 더 빠름 |\n",
    "| `heapq.nlargest(k, iterable)`   | 가장 큰 k개 원소 리스트 반환           |\n",
    "| `heapq.nsmallest(k, iterable)`  | 가장 작은 k개 원소 리스트 반환          |\n"
   ]
  },
  {
   "cell_type": "code",
   "execution_count": null,
   "id": "534a451c",
   "metadata": {},
   "outputs": [],
   "source": [
    "# 최소힙 정렬시키기\n",
    "import heapq\n",
    "\n",
    "arr = [3, 5, 9, 6, 4, 8, 7]\n",
    "heapq.heapify(arr)\n",
    "print(arr)  # [3, 4, 7, 6, 5, 8, 9]: 최소힙 조건이 성립된 내부 배열 구조"
   ]
  },
  {
   "cell_type": "code",
   "execution_count": null,
   "id": "a66e1415",
   "metadata": {},
   "outputs": [],
   "source": [
    "# 힙에 넣었다가 꺼내는 것으로 정렬 가능\n",
    "import heapq\n",
    "\n",
    "arr = [9, 1, 5, 4, 3, 8, 7]\n",
    "heapq.heapify(arr)\n",
    "\n",
    "while arr:\n",
    "    print(heapq.heappop(arr), end=\" \") # 1 3 4 5 7 8 9 : 오름차순 정렬"
   ]
  },
  {
   "cell_type": "code",
   "execution_count": null,
   "id": "2b4cd6b5",
   "metadata": {},
   "outputs": [],
   "source": [
    "# 최대힙을 구현하여 내림차순 정렬도 가능\n",
    "import heapq\n",
    "\n",
    "arr = [9, 1, 5, 4, 3, 8, 7]\n",
    "heap = []\n",
    "for x in arr:\n",
    "    heapq.heappush(heap, -x)   # 음수로 push\n",
    "\n",
    "while heap:\n",
    "    print(-heapq.heappop(heap), end=\" \")   # 9 8 7 5 4 3 1 : 다시 양수로 출력"
   ]
  },
  {
   "cell_type": "code",
   "execution_count": null,
   "id": "d2f28082",
   "metadata": {},
   "outputs": [],
   "source": [
    "# K 번째로 작은/큰 수 찾기\n",
    "import heapq\n",
    "\n",
    "arr = [7, 10, 4, 3, 20, 15]\n",
    "k = 4\n",
    "heapq.heapify(arr)\n",
    "for _ in range(k - 1):\n",
    "    heapq.heappop(arr)\n",
    "print(heapq.heappop(arr))  # 10: k번째 작은 수"
   ]
  },
  {
   "cell_type": "code",
   "execution_count": null,
   "id": "d321f34a",
   "metadata": {},
   "outputs": [],
   "source": [
    "# Top-K 구하기 (정렬없이)\n",
    "import heapq\n",
    "\n",
    "arr = [12, 3, 5, 7, 19, 1, 22, 8]\n",
    "top3 = heapq.nlargest(3, arr)\n",
    "print(top3)     # [22, 19, 12]"
   ]
  },
  {
   "attachments": {
    "image-2.png": {
     "image/png": "[encoded data removed]"
    },
    "image.png": {
     "image/png": "[encoded data removed]"
    }
   },
   "cell_type": "markdown",
   "id": "72b160d7",
   "metadata": {},
   "source": [
    "## **힙 예시문제**\n",
    "\n",
    "**[1] 우선순위에 따라 작업 처리 (시뮬레이션 + 힙)**     \n",
    "\n",
    ">📌 설명: CPU 스케줄링, 응급실 환자, 인쇄 대기열 등 \"우선순위가 높은 것부터 처리\"하는 시뮬레이션 \n",
    ">\n",
    ">📚 예시:\n",
    ">- 백준 11286: 절댓값 힙\n",
    ">- 프로그래머스: 디스크 컨트롤러, 이중 우선순위 큐\n",
    ">\n",
    ">💡 아이디어:\n",
    ">- (우선순위, 도착 시간) 튜플을 힙에 저장해서 먼저 도착하거나, 우선순위가 높은 것부터 처리\n",
    ">- (우선순위, 값) 형식으로 힙에 넣는다.\n",
    ">- 다중 조건은 튜플의 사전순 정렬을 활용.\n",
    ">- 예: heapq.heappush(heap, (abs(x), x))\n",
    "```python\n",
    "import heapq\n",
    "import sys\n",
    "\n",
    "input = sys.stdin.readline\n",
    "heap = []\n",
    "n = int(input())\n",
    "\n",
    "for _ in range(n):\n",
    "    x = int(input())\n",
    "    if x != 0:\n",
    "        heapq.heappush(heap, (abs(x), x))   \n",
    "        # 절댓값이 작은 것부터 나오되, \n",
    "        # 절댓값이 같으면 음수부터 나옴 (-x < x 이니까)\n",
    "\n",
    "    else:\n",
    "        if heap:\n",
    "            print(heapq.heappop(heap)[1])\n",
    "        else:\n",
    "            print(0)\n",
    "```\n",
    "---\n",
    "\n",
    "**[2] N개의 정렬된 배열 병합 (다중 포인터 + 힙)**\n",
    ">📌 설명: 정렬된 k개의 배열을 하나의 정렬된 배열로 병합하라 (N-way merge)\n",
    ">\n",
    ">📚 예시:\n",
    ">- LeetCode 23: Merge k Sorted Lists\n",
    ">\n",
    ">💡 아이디어:\n",
    ">- 힙에 (현재값, 해당 배열 인덱스) 형태로 push → 가장 작은 값부터 차례로 병합\n",
    ">- 각 배열의 첫 원소를 힙에 (값, 배열번호, 인덱스) 형태로 넣음\n",
    ">- 힙에서 하나 꺼내면, 해당 배열에서 다음 원소를 다시 넣기\n",
    "```python\n",
    "import heapq\n",
    "\n",
    "arrays = [[1, 4, 5], [1, 3, 4], [2, 6]]\n",
    "heap = []\n",
    "result = []\n",
    "\n",
    "# 배열별 첫 원소 push\n",
    "for i, arr in enumerate(arrays):\n",
    "    if arr:\n",
    "        heapq.heappush(heap, (arr[0], i, 0))  # (값, 배열번호, 인덱스)\n",
    "        # 힙에 넣는 튜플 (값, 배열번호, 원소인덱스)의 의미:\n",
    "        # 값: 힙의 정렬 기준 (가장 중요!)\n",
    "        # 배열번호: 나중에 그 배열의 다음 원소를 찾아가기 위한 정보\n",
    "        # 원소인덱스: 해당 배열 안에서 몇 번째 값인지 추적\n",
    "        # 이렇게 하면 힙에는 [1, 1, 2]가 먼저 들어가고, \n",
    "        # 그 중에서 제일 작은 1이 루트에 올라감\n",
    "\n",
    "# 병합\n",
    "while heap:\n",
    "    val, arr_idx, el_idx = heapq.heappop(heap)\n",
    "    result.append(val)\n",
    "\t# heapq.heappop(heap) → 현재 힙에서 가장 작은 (값, 배열번호, 인덱스) 꺼냄\n",
    "    # val은 최솟값, arr_idx는 어떤 배열에서 꺼낸 값인지, el_idx는 해당 배열 안의 위치\n",
    "    # result.append(val) → 꺼낸 값을 최종 병합 리스트에 추가\n",
    "\n",
    "    # 다음 원소 있으면 push\n",
    "    if el_idx + 1 < len(arrays[arr_idx]):\n",
    "        next_val = arrays[arr_idx][el_idx + 1]\n",
    "        heapq.heappush(heap, (next_val, arr_idx, el_idx + 1))\n",
    "\n",
    "print(result)  # → [1, 1, 2, 3, 4, 4, 5, 6]\n",
    "```\n",
    "---\n",
    "\n",
    "**[3] 다익스트라 최단경로 알고리즘**\n",
    "> 📌 설명: 어떤 노드에서 다른 노드까지의 최소 비용 구하기 (음의 가중치 없을 때)\n",
    "> 📚 예시:\n",
    "> - 백준 1753: 최단경로\n",
    ">\n",
    "> ![image-2.png](attachment:image-2.png)\n",
    ">\n",
    ">  ![image.png](attachment:image.png)\n",
    ">\n",
    "> [예제 입력]   \n",
    "> 첫째 줄: 5 6 은 5개의 섬과 6개의 도로가 있음을 의미   \n",
    "> 둘째 줄: 1 은 시작지점이 섬 1임을 의미    \n",
    "> 5 1 1 -> 5에서 1로 가는 가중치 1인 간선이 존재    \n",
    "> 1 2 2 -> 1에서 2로 가는 가중치 2인 간선이 존재    \n",
    "> 1 3 3 -> 1에서 3으로 가는 가중치 3인 간선이 존재  \n",
    "> 2 3 4 -> 2에서 3으로 가는 가중치 4인 간선이 존재  \n",
    "> 2 4 5 -> 2에서 4로 가는 가중치 5인 간선이 존재    \n",
    "> 3 4 6 -> 3에서 4로 가는 가중치 6인 간선이 존재    \n",
    ">   \n",
    "> [예제 출력]   \n",
    "> 시작 섬 (여기서는 1)에서부터 i섬(i=1,2,3,4,5)으로 가는 최단 경로값 출력   \n",
    "> 가령 1에서 4섬으로 가는 최단경로값은  \n",
    "> 1->2->4 이므로 2+5=7  \n",
    "> 1에서 5섬으로 가는 최단경로는 없으므로 INF    \n",
    ">   \n",
    "> 💡 아이디어:\n",
    "> - 거리 기준으로 (cost, node)를 최소힙에 넣고, 최소 비용 노드부터 탐색\n",
    "> - (현재까지 비용, 노드)를 최소힙에 넣는다.\n",
    "> - 이미 방문한 노드는 스킵. 인접 노드 갱신.\n",
    "```python\n",
    "import heapq\n",
    "\n",
    "def dijkstra(start, graph, n):\n",
    "    INF = float('inf')\t# 무한대를 표현. 도달할 수 없는 경우를 표현하기 위해 사용\n",
    "    dist = [INF] * (n + 1)  # dist[i]:start에서i번 노드까지의 최단거리를 저장하는 리스트\n",
    "    dist[start] = 0\t\t    # 초기에는 모두 ∞로 설정하지만, start는 자기 자신이므로 거리 0\n",
    "    heap = [(0, start)]  \t# (비용, 노드)  \n",
    "\t# 우선순위 큐(힙)를 사용하여, 가장 비용이 적은 경로부터 처리함\n",
    "    # (현재까지의 비용, 현재 노드) 형태의 튜플을 힙에 넣음\n",
    "    # 최소힙이니까, 항상 비용이 가장 적은 경로부터 뽑히게 됨\n",
    "\n",
    "    while heap:\n",
    "        cost, now = heapq.heappop(heap)\t# 현재까지 가장 비용이 작은 경로를 힙에서 꺼냄\n",
    "        if cost > dist[now]:\n",
    "            continue\t\t\n",
    "        # 이미 더 짧은 경로로 now에 도달한 적이 있다면 지금 꺼낸 건 쓸모없는 경로이므로 스킵\n",
    "        # 예시: start → A → B 경로보다  start → B 경로가 더 빠르면, A → B 경로는 무시\n",
    "\n",
    "        for neighbor_cost, neighbor in graph[now]: \t# 현재 노드 now에서 갈 수 있는 \n",
    "                                                # 모든 이웃 노드들에 대해 반복\n",
    "                                                # 각 이웃까지의 이동 비용과 이웃 노드 번호를 확인\n",
    "            new_cost = cost + neighbor_cost\t# 현재 노드를 거쳐 이웃 노드로 가는 누적 비용 계산\n",
    "            if new_cost < dist[neighbor]:\n",
    "                dist[neighbor] = new_cost\t# 더 짧은 경로 발견! → dist 갱신\n",
    "                heapq.heappush(heap, (new_cost, neighbor))\t# 그 경로도 앞으로 탐색해야 하므로 힙에 넣음\n",
    "\n",
    "    return dist\n",
    "\n",
    "# 예시: 1번 노드에서 시작하는 그래프\n",
    "n = 5\n",
    "graph = {\n",
    "    1: [(2, 2), (3, 3)],\n",
    "    2: [(4, 4)],\n",
    "    3: [(1, 4), (2, 5)],\n",
    "    4: [],\n",
    "    5: []\n",
    "}\n",
    "\n",
    "distances = dijkstra(1, graph, n)\n",
    "# graph[1] → 노드 1에서 노드 2로 비용 2, 노드 3으로 비용 3\n",
    "print(distances[1:])  # → [0, 2, 3, 6, 5]\n",
    "```\n",
    "---\n",
    "✅ 힙 알고리즘 문제 풀이 팁\n",
    "|팁|\t설명|\n",
    "|---|---|\n",
    "|힙에는 튜플을 넣을 수 있다\t|(우선순위, 실제값)으로 활용 가능|\n",
    "|최대힙은 $(-)$값으로|\t`heapq`는 최소힙만 지원하므로 `-x`로 넣고 `-heappop()`|\n",
    "|정렬 없이 Top-K|\t`heapq.nlargest()`, `nsmallest()`로 빠르게 해결 가능|\n",
    "|시간복잡도 주의|\t삽입/삭제는 $O(\\log⁡{n})$이므로 $O(n\\log⁡{n})$ 이상 요구될 때 힙이 적합\n",
    "\n"
   ]
  },
  {
   "cell_type": "markdown",
   "id": "3d15f322",
   "metadata": {},
   "source": [
    "---"
   ]
  },
  {
   "cell_type": "markdown",
   "id": "c3a9698c",
   "metadata": {},
   "source": [
    "# **자료구조별 연산 정리**\n",
    "\n",
    "참고: **파이썬에서 `인덱싱`(e.g. `lst[1]`)은 범위 초과에 오류가 발생하지만 `슬라이싱`(e.g. `lst[1:]`)은 범위 초과에도 오류가 없이 값이 없는 부분은 비어 있는 채로 반환한다.**   \n",
    "$\\quad\\,\\,\\,\\,$ 이는 모든 인덱싱/슬라이싱이 가능한 경우(`list`,`tuple`,`str`,`bytes`,`range`)에 대해 마찬가지이다.      \n",
    "* `set`, `dict`의 경우 인덱싱/슬라이싱이 아예 불가"
   ]
  },
  {
   "cell_type": "markdown",
   "id": "2cdde1ab",
   "metadata": {},
   "source": [
    "## **리스트(list) 연산 정리**\n",
    "\n",
    "`ls1`, `ls2` 은 파이썬의 리스트 구조일 때,\n",
    "\n",
    "\n",
    "<div align=\"left\" style=\"font-family: Consolas;\">\n",
    "\n",
    "  |연산|최대 시간복잡도|예시|설명|\n",
    "  |:---:|:---:|:---:|:------------------------------------|\n",
    "  |Indexing|$O(1)$|`ls1[i]`|리스트의 특정 인덱스 `i`의 값 반환|\n",
    "  |Storing|$O(1)$|`ls1[i] = x`|리스트의 특정 인덱스 `i`에 값 `x` 저장하기|\n",
    "  |Append|$O(1)$|`ls1.append(x)`|리스트의 가장 뒤에 값 `x` 넣기|\n",
    "  |Pop|$O(1)$|`ls1.pop()`<br>`== ls1.pop(-1)`|리스트의 가장 뒤에서 원소 제거하고 반환|\n",
    "  ||$O(N)$|`ls.pop(i)`|리스트의 특정 인덱스 `i`의 원소 꺼내고 제거하고 반환|\n",
    "  |Length|$O(1)$|`len(ls1)`|리스트의 길이 반환|\n",
    "  |Clear|$O(1)$|`ls1.clear()`|리스트 내 모든 원소 제거하기|\n",
    "  |Slicing|$O($`b`$-$`a`$)$|`ls1[a:b]`|리스트에서 인덱스 `a`부터 `b-1`까지의 원소만 꺼내 새로운 리스트로 반환|\n",
    "  |Extend|$O(len($`ls2`$))$|`ls1.extend(ls2)`|기존 리스트에 다른 리스트를 이어붙여 반환|\n",
    "  |Insertion|$O(N)$|`ls1.insert(i,x)`|리스트의 특정 인덱스 `i`에 값 `x` 저장하기|\n",
    "  |Delete|$O(N)$|`del ls1[i]`|리스트 내 인덱스 `i`의 원소 제거하기|\n",
    "  |Construction|$O(len($`ls2`$))$|`list(data)`|`data`의 원소들을 리스트로 만들기 <br> (단, `data`의 타입은 `iterable`이어야 함 - `int`, `float`, `boolean`, `None` 등은 iterable이 아니기 때문에 변환 불가)|\n",
    "  |In|$O(N)$|`x in ls1:`|원소 `x`가 리스트에 존재하는지 `boolean`반환|\n",
    "  |Not in|$O(N)$|`x not in ls1:`|원소 `x`가 리스트에 존재하지 않는지 `boolean`반환|\n",
    "  |Remove|$O(N)$|`ls1.remove(x)`|리스트 내에 가장 처음으로 등장하는 원소 `x`를 삭제|\n",
    "  |Copy|$O(N)$|`ls1.copy()`<br>`ls1.deepcopy()`|리스트를 복제하여 반환 (얕은복사 - 자료가 1차원일 때는 문제 없으나 2차원 이상일 때 안쪽 원소를 바꾸면 원본도 바뀜)<br> 리스트를 복제하여 반환 (깊은복사 - 모든 중첩 객체까지 복사하므로 서로 완전히 독립적)|\n",
    "  |Min|$O(N)$|`min(ls1)`|리스트 내에 존재하는 가장 작은 원소 반환|\n",
    "  |Max|$O(N)$|`max(ls1)`|리스트 내에 존재하는 가장 큰 원소 반환|\n",
    "  |Iteration|$O(N)$|`for x in ls1:`|리스트 내에 존재하는 모든 원소 순회|\n",
    "  |Multiply|$O(k\\times N)$|`ls1 * k`|리스트를 `k`번 반복하여 길게 만들기|\n",
    "  |Sort|$O(NlogN)$|`ls1.sort()` <br> `sorted(ls1)`|리스트 내 존재하는 원소를 정렬|\n",
    "\n",
    "</div>\n",
    " \n",
    "\n",
    "\n",
    "<br>\n",
    "\n",
    "- `list(data)` 에 들어갈 수 있는 자료형\n",
    "\n",
    "  \n",
    "<div align=\"left\" style=\"font-family: Consolas;\">\n",
    "\n",
    "| 자료형          | 예시                            | 변환 결과                    |\n",
    "| ------------ | ----------------------------- | ------------------------ |\n",
    "| 문자열 `str`    | `list(\"abc\")`                 | `['a', 'b', 'c']`        |\n",
    "| 튜플 `tuple`   | `list((1, 2, 3))`             | `[1, 2, 3]`              |\n",
    "| 집합 `set`     | `list({4, 5, 6})`             | `[4, 5, 6]` (순서는 불확정)    |\n",
    "| 딕셔너리 `dict`  | `list({'a':1, 'b':2})`        | `['a', 'b']` (key만 리스트됨) |\n",
    "| range        | `list(range(3))`              | `[0, 1, 2]`              |\n",
    "| enumerate    | `list(enumerate(['a', 'b']))` | `[(0, 'a'), (1, 'b')]`   |\n",
    "| zip          | `list(zip([1,2],[3,4]))`      | `[(1, 3), (2, 4)]`       |\n",
    "| map/filter 등 | `list(map(str, [1,2]))`       | `['1', '2']`             |\n",
    "\n",
    "</div>"
   ]
  },
  {
   "cell_type": "markdown",
   "id": "30b2b465",
   "metadata": {},
   "source": [
    "## **문자열(str) 연산 정리**\n",
    "\n",
    "str1, str2는 파이썬의 문자열 자료형일 때,\n",
    "\n",
    "<div align=\"left\" style=\"font-family: Consolas;\">\n",
    "\n",
    "\n",
    "|       연산      |             예시            | 설명                                               |\n",
    "| :-----------: | :-----------------------: | :----------------------------------------------- |\n",
    "|    Indexing   |         `str1[i]`         | 문자열에서 인덱스 `i`에 해당하는 문자 반환                        |\n",
    "|    Slicing    |        `str1[a:b]`        | 문자열에서 인덱스 `a`부터 `b-1`까지의 부분 문자열 반환               |\n",
    "| Concatenation |       `str1 + str2`       | 두 문자열을 이어붙여 새로운 문자열 반환                           |\n",
    "|   Repetition  |         `str1 * k`        | 문자열을 `k`번 반복하여 새로운 문자열 생성                        |\n",
    "|     Length    |        `len(str1)`        | 문자열의 길이 반환                                       |\n",
    "|   Lowercase   |       `str1.lower()`      | 문자열을 모두 소문자로 변환                                  |\n",
    "|   Uppercase   |       `str1.upper()`      | 문자열을 모두 대문자로 변환                                  |\n",
    "|   Titlecase   |       `str1.title()`      | 문자열에서 각 단어의 첫 글자를 대문자로 변환                        |\n",
    "|    Swapcase   |     `str1.swapcase()`     | 문자열에서 소문자는 대문자로, 대문자는 소문자로 변환                    |\n",
    "|      Find     |      `str1.find(sub)`     | 문자열에서 `sub`가 처음 나타나는 인덱스를 반환 (없으면 `-1` 반환)       |\n",
    "|     Rfind     |     `str1.rfind(sub)`     | 문자열에서 `sub`가 마지막으로 나타나는 인덱스를 반환 (없으면 `-1` 반환)    |\n",
    "|     Count     |     `str1.count(sub)`     | 문자열에서 `sub`의 등장 횟수를 반환                           |\n",
    "|    Replace    |  `str1.replace(old, new)` | 문자열에서 `old`를 `new`로 바꾼 새로운 문자열 반환                |\n",
    "|     Split     |    `str1.split(delim)`    | 문자열을 구분자 `delim`을 기준으로 분리하여 리스트로 반환              |\n",
    "|      Join     |     `delim.join(str1)`    | 구분자 `delim`을 사용하여 문자열 `str1`의 원소를 합친 새로운 문자열 반환  |\n",
    "|     Strip     |       `str1.strip()`      | 문자열 양옆의 공백 또는 특정 문자를 제거한 새로운 문자열 반환              |\n",
    "|     Lstrip    |      `str1.lstrip()`      | 문자열 왼쪽의 공백 또는 특정 문자를 제거한 새로운 문자열 반환              |\n",
    "|     Rstrip    |      `str1.rstrip()`      | 문자열 오른쪽의 공백 또는 특정 문자를 제거한 새로운 문자열 반환             |\n",
    "|   Startswith  | `str1.startswith(prefix)` | 문자열이 `prefix`로 시작하는지 확인 (True/False 반환)          |\n",
    "|    Endswith   |  `str1.endswith(suffix)`  | 문자열이 `suffix`로 끝나는지 확인 (True/False 반환)           |\n",
    "|       In      |       `sub in str1`       | `sub`가 문자열 `str1`에 포함되어 있는지 확인 (True/False 반환)   |\n",
    "|     Not in    |     `sub not in str1`     | `sub`가 문자열 `str1`에 포함되어 있지 않은지 확인 (True/False) 반환 |\n",
    "|    Isdigit    |      `str1.isdigit()`     | 문자열이 숫자로만 구성되어 있는지 확인 (True/False 반환)            |\n",
    "|    Isalpha    |      `str1.isalpha()`     | 문자열이 알파벳 문자로만 구성되어 있는지 확인 (True/False 반환)        |\n",
    "|    Isalnum    |      `str1.isalnum()`     | 문자열이 알파벳 문자 또는 숫자만으로 구성되어 있는지 확인 (True/False) 반환) |\n",
    "|    Isupper    |      `str1.isupper()`     | 문자열이 모두 대문자인지 확인 (True/False 반환)                 |\n",
    "|    Islower    |      `str1.islower()`     | 문자열이 모두 소문자인지 확인 (True/False 반환)                 |\n",
    "|    Isdigit    |      `str1.isdigit()`     | 문자열이 숫자만 포함되어 있는지 확인 (True/False 반환)             |\n",
    "|    Isspace    |      `str1.isspace()`     | 문자열이 공백 문자로만 이루어져 있는지 확인 (True/False 반환)         |\n",
    "|     Zfill     |    `str1.zfill(width)`    | 문자열의 길이가 `width`가 될 때까지 앞에 `0`을 채워 새로운 문자열 반환    |\n",
    "\n",
    "</div>"
   ]
  },
  {
   "cell_type": "markdown",
   "id": "066acfd1",
   "metadata": {},
   "source": [
    "## **집합(set) 연산 정리**\n",
    "\n",
    "`set1`, `set2` 는 파이썬의 셋(Set) 자료형일 때,\n",
    "\n",
    "<div align=\"left\" style=\"font-family: Consolas;\">\n",
    "\n",
    "|          연산          |                         예시                         | 설명        |\n",
    "| :------------------: | :------------------------------------------------: | :------------------------------------------------------- |\n",
    "|       Indexing       |                      `set1[i]`                     | 셋은 인덱싱을 지원하지 않음 (에러 발생)  |\n",
    "|          Add         |                    `set1.add(x)`                   | 셋에 원소 `x` 추가하기 (중복된 값은 추가되지 않음) |\n",
    "|        Remove        |                  `set1.remove(x)`                  | 셋에서 원소 `x`를 제거하기 (원소가 없으면 KeyError 발생)     |\n",
    "|        Discard       |                  `set1.discard(x)`                 | 셋에서 원소 `x`를 제거하기 (원소가 없으면 에러 발생하지 않음)      |\n",
    "|          Pop         |                    `set1.pop()`                    | 셋에서 임의의 원소 하나를 제거하고 반환 (셋은 순서가 없기 때문에 어떤 원소가 나올지 알 수 없음) |\n",
    "|         Clear        |                   `set1.clear()`                   | 셋 내 모든 원소 제거하기     |\n",
    "|         Union        |     `set1 \\| set2` <br> `set1.union(set2)`         | 셋 `set1`과 `set2`의 합집합 반환 |\n",
    "|     Intersection     |     `set1 & set2`<br>`set1.intersection(set2)`     | 셋 `set1`과 `set2`의 교집합 반환    |\n",
    "|      Difference      |      `set1 - set2`<br>`set1.difference(set2)`      | 셋 `set1`에만 있는 원소 반환        |\n",
    "| Symmetric Difference | `set1 ^ set2`<br>`set1.symmetric_difference(set2)` | 셋 `set1`과 `set2`에서 하나에만 있는 원소 반환  |\n",
    "|        Subset        |  `set1 <= set2` <br> `set1.issubset(set2)`         | 셋 `set1`이 셋 `set2`의 부분집합인지 확인 (True/False 반환) |\n",
    "|       Superset       |  `set1 >= set2` <br> `set1.issuperset(set2)`       | 셋 `set1`이 셋 `set2`의 상위집합인지 확인 (True/False 반환)  |\n",
    "|       Equality       |                   `set1 == set2`                   | 셋 `set1`과 `set2`가 동일한 원소를 가졌는지 확인 (True/False 반환)   |\n",
    "|         Copy         |                    `set1.copy()`                   | 셋을 복제하여 반환 (얕은 복사)   |\n",
    "|          In          |                     `x in set1`                    | 원소 `x`가 셋에 존재하는지 확인 (True/False 반환)    |\n",
    "|        Not in        |                   `x not in set1`                  | 원소 `x`가 셋에 존재하지 않는지 확인 (True/False) 반환      |\n",
    "|        Length        |                     `len(set1)`                    | 셋의 원소 개수 반환       |\n",
    "\n",
    "</div>"
   ]
  },
  {
   "cell_type": "markdown",
   "id": "d2b9052e",
   "metadata": {},
   "source": [
    "## **딕셔너리(dict) 연산 정리**\n",
    "\n",
    "`dict1`, `dict2`는 파이썬의 딕셔너리 자료형일 때,\n",
    "\n",
    "<div align=\"left\" style=\"font-family: Consolas;\">\n",
    "\n",
    "|     연산    |                 예시                | 설명                                                            |\n",
    "| :-------: | :-------------------------------: | :------------------------------------------------------------ |\n",
    "|  Indexing |            `dict1[key]`           | 딕셔너리에서 `key`에 해당하는 값을 반환                                      |\n",
    "|  Storing  |        `dict1[key] = value`       | 딕셔너리에서 `key`에 해당하는 값을 `value`로 저장                             |\n",
    "|    Get    |          `dict1.get(key)`         | 딕셔너리에서 `key`에 해당하는 값을 반환 (없으면 `None` 반환, 기본값 지정 가능)           |\n",
    "|    Pop    |          `dict1.pop(key)`         | 딕셔너리에서 `key`에 해당하는 원소를 제거하고 반환                                |\n",
    "|  Popitem  |         `dict1.popitem()`         | 딕셔너리에서 마지막으로 추가된 `key, value` 쌍을 제거하고 반환                      |\n",
    "|    Keys   |           `dict1.keys()`          | 딕셔너리의 모든 `key`를 반환 (리스트 형태는 아니지만 순회 가능)                       |\n",
    "|   Values  |          `dict1.values()`         | 딕셔너리의 모든 `value`를 반환                                          |\n",
    "|   Items   |          `dict1.items()`          | 딕셔너리의 모든 `key, value` 쌍을 튜플 형태로 반환                            |\n",
    "|   Update  |       `dict1.update(dict2)`       | 딕셔너리 `dict2`의 항목을 `dict1`에 추가 (겹치는 `key`는 `dict2`의 값으로 덮어씌워짐) |\n",
    "|   Length  |            `len(dict1)`           | 딕셔너리의 원소 개수 반환 (키-값 쌍의 개수)                                    |\n",
    "|   Clear   |          `dict1.clear()`          | 딕셔너리 내 모든 항목을 제거                                              |\n",
    "|    Copy   |           `dict1.copy()`          | 딕셔너리의 얕은 복사본을 반환                                              |\n",
    "|     In    |           `key in dict1`          | `key`가 딕셔너리 `dict1`에 존재하는지 확인 (True/False 반환)                 |\n",
    "|   Not in  |         `key not in dict1`        | `key`가 딕셔너리 `dict1`에 존재하지 않는지 확인 (True/False 반환)              |\n",
    "|  Equality |          `dict1 == dict2`         | 두 딕셔너리 `dict1`과 `dict2`가 동일한 `key-value` 쌍을 가지고 있는지 확인        |\n",
    "| Iteration | `for key, value in dict1.items()` | 딕셔너리 내의 `key-value` 쌍을 순회                                     |\n",
    "\n",
    "</div>"
   ]
  },
  {
   "cell_type": "markdown",
   "id": "77f825aa",
   "metadata": {},
   "source": [
    "## **정수(int) 연산 정리** (비트 연산 추가)\n",
    "\n",
    "int1, int2는 파이썬의 정수 자료형일 때, \n",
    "\n",
    "<div align=\"left\" style=\"font-family: Consolas;\">\n",
    "\n",
    "|    연산    |              예시              | 설명                    |\n",
    "| :------: | :--------------------------: | :------- |\n",
    "|    덧셈    |         `int1 + int2`        | 두 정수의 합을 반환   |\n",
    "|    뺄셈    |         `int1 - int2`        | 두 정수의 차를 반환 |\n",
    "|    곱셈    |         `int1 * int2`        | 두 정수의 곱을 반환 |\n",
    "|    나눗셈   |         `int1 / int2`        | 두 정수의 나눗셈 결과를 실수로 반환   |\n",
    "|     몫    |        `int1 // int2`        | 두 정수의 나눗셈 결과에서 몫을 반환     |\n",
    "|    나머지   |         `int1 % int2`        | 두 정수의 나눗셈 결과에서 나머지를 반환    |\n",
    "|   거듭제곱   |        `int1 ** int2`        | `int1`을 `int2`번 거듭제곱한 값을 반환    |\n",
    "|    절댓값   |          `abs(int1)`         | 정수의 절댓값 반환    |\n",
    "|   부호 반전  |            `-int1`           | 정수의 부호를 반전시킨 값을 반환   |\n",
    "|  비트 OR   |         `int1 \\| int2`       | 두 정수의 비트 단위 OR 연산을 반환 <br> **예시**: `int1 = 5 (0101), int2 = 3 (0011)` $\\Rightarrow$ `int1 \\| int2 = 7 (0111)` <br> **설명**: 두 수의 각 비트 중 하나라도 1이면 결과가 1. 따라서 5와 3의 비트 연산에서 7이 나옴.|\n",
    "|  비트 AND  |         `int1 & int2`        | 두 정수의 비트 단위 AND 연산을 반환 <br> **예시**: `int1 = 5 (0101), int2 = 3 (0011)` $\\Rightarrow$ `int1 & int2 = 1 (0001)` <br> **설명**: 두 수의 각 비트가 모두 1일 때만 결과가 1. 5와 3의 비트 연산에서 1만 남게 됨.      |\n",
    "|  비트 XOR  |         `int1 ^ int2`        | 두 정수의 비트 단위 XOR 연산을 반환 <br> **예시**: `int1 = 5 (0101), int2 = 3 (0011)` $\\Rightarrow$ `int1 ^ int2 = 6 (0110)` <br> **설명**: 두 수의 비트가 다를 때만 1을 반환. 5와 3을 XOR 연산한 결과는 6.              |\n",
    "|  비트 NOT  |            `~int1`           | 정수의 비트 단위 NOT 연산을 반환 <br> **예시**: `int1 = 5 (0101)` $\\Rightarrow$ `~int1 = -6 (1010)` (2의 보수) <br> **설명**: 비트를 반전시킴.  |\n",
    "|  왼쪽 시프트  |        `int1 << int2`        | `int1`을 왼쪽으로 `int2` 비트만큼 시프트 <br> **예시**: `int1 = 5 (0101), int2 = 2` $\\Rightarrow$ `int1 << int2 = 20 (10100)` <br> **설명**: 5의 비트를 왼쪽으로 2비트 시프트하면 20. <br> 왼쪽 시프트는 비트로 표현된 int1을 int2만큼 왼쪽으로 밀고, 빈 오른쪽공간에 0을 채우는 것. <br> 이 연산은 int1을 2의 int2제곱만큼 곱하는 것과 같음. |\n",
    "|  오른쪽 시프트 |        `int1 >> int2`        | `int1`을 오른쪽으로 `int2` 비트만큼 시프트 <br> **예시**: `int1 = 5 (0101), int2 = 2` $\\Rightarrow$ `int1 >> int2 = 1 (0001)` <br> **설명**: 5의 비트를 오른쪽으로 2비트 시프트하면 1. <br> 오른쪽 시프트는 비트로 표현된 int1을 int2만큼 오른쪽으로 밀고, 빈 왼쪽공간에 부호 비트(음수인 경우 1, 양수인 경우 0)를 채우는 것. <br> 이 연산은 int1을 2의 int2제곱만큼 나누는 것과 같음.  |\n",
    "|   정수 비교  |        `int1 == int2`        | 두 정수가 동일한지 확인 (True/False 반환)   |\n",
    "|   정수 비교  |        `int1 != int2`        | 두 정수가 다른지 확인 (True/False 반환)     |\n",
    "|   정수 비교  |         `int1 < int2`        | `int1`이 `int2`보다 작은지 확인 (True/False 반환)    |\n",
    "|   정수 비교  |        `int1 <= int2`        | `int1`이 `int2`보다 작거나 같은지 확인 (True/False 반환) |\n",
    "|   정수 비교  |         `int1 > int2`        | `int1`이 `int2`보다 큰지 확인 (True/False 반환)    |\n",
    "|   정수 비교  |        `int1 >= int2`        | `int1`이 `int2`보다 크거나 같은지 확인 (True/False 반환)   |\n",
    "| 정수 포함 여부 | `int1 in range(start, stop)` | `int1`이 `range(start, stop)` 범위에 포함되는지 확인 (True/False 반환)   |\n",
    "\n",
    "</div>\n",
    "\n",
    "\n",
    "---\n",
    "\n",
    "### **참고: Bit(이진수의 최소단위)표현**\n",
    "\n",
    "- 비트표현시 양수는 항상 맨 앞의 수가 0, 음수는 항상 맨 앞의 수가 1임.\n",
    "> - 예시: 5를 4비트로 표현하면 단순히 `101`이 아닌 `0101`로 표시\n",
    "\n",
    "- 2의 보수 표현     \n",
    "2의 보수는 음수를 이진수로 표현할 때 사용됨.  \n",
    "2의 보수는 양수의 이진수를 반전시키고, 그 결과에 1을 더하는 방식으로 음수를 표현함.\n",
    "> - 예시: -5를 4비트로 표현하기     \n",
    "[1] 먼저, 양수 5를 이진수로 나타냄: `5 = 0101`      \n",
    "[2] 5를 반전시킵니다: `1010`        \n",
    "[3] 반전된 값에 1을 더합니다: `1011`        \n",
    "\n",
    "- 부호 확장 (Sign Extension)      \n",
    "부호 확장은 음수의 부호 비트를 시프트한 후에도 그대로 유지하도록 하는 방법       \n",
    "즉, 비트를 오른쪽으로 이동시킬 때,  **부호 비트(1)** 가 계속해서 앞부분을 채워 음수 특성을 유지함.       \n",
    ">- 예시: `-7 >> 3 == -1`    \n",
    "[1] -7를 2의 보수로 표현하면 `7 = 0111` 이므로 `-7 = 1001` 임   \n",
    "[2] 오른쪽으로 세칸 시프트하면 `_ _ _ 1` 임     \n",
    "[3] 왼쪽 빈 공간을 1로 채워야 하므로 `1111`임   \n",
    "[4] 이를 양수로 변환시키기 위해 1을 빼고, 양수의 이진수로 변환시키면 `0001`이므로 1임. 즉, `1111`은 -1  "
   ]
  }
 ],
 "metadata": {
  "kernelspec": {
   "display_name": "venv312",
   "language": "python",
   "name": "python3"
  },
  "language_info": {
   "codemirror_mode": {
    "name": "ipython",
    "version": 3
   },
   "file_extension": ".py",
   "mimetype": "text/x-python",
   "name": "python",
   "nbconvert_exporter": "python",
   "pygments_lexer": "ipython3",
   "version": "3.12.10"
  }
 },
 "nbformat": 4,
 "nbformat_minor": 5
}
